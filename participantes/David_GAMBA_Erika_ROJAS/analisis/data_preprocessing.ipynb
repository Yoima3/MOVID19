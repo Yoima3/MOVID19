{
 "cells": [
  {
   "cell_type": "code",
   "execution_count": 1,
   "metadata": {},
   "outputs": [],
   "source": [
    "import numpy as np\n",
    "import pandas as pd\n",
    "import seaborn as sns"
   ]
  },
  {
   "cell_type": "markdown",
   "metadata": {},
   "source": [
    "## Solo IPS con camas disponibles, y en bogota "
   ]
  },
  {
   "cell_type": "code",
   "execution_count": 2,
   "metadata": {},
   "outputs": [],
   "source": [
    "capacities = pd.read_csv('../data/01_raw/capacidad.csv')\n",
    "capacities.columns = [c.strip() for c in capacities.columns.values]"
   ]
  },
  {
   "cell_type": "code",
   "execution_count": 3,
   "metadata": {},
   "outputs": [],
   "source": [
    "# found a better way\n",
    "#ips_geo = pd.read_csv('../data/01_raw/ips_geo.csv')"
   ]
  },
  {
   "cell_type": "code",
   "execution_count": 4,
   "metadata": {},
   "outputs": [
    {
     "data": {
      "text/plain": [
       "nom sede IPS                         object\n",
       "nit IPS                             float64\n",
       "naturaleza                           object\n",
       "num digito_verificion               float64\n",
       "num nivel atencion                  float64\n",
       "nom grupo capacidad                  object\n",
       "nom descripcion capacidad            object\n",
       "num cantidad capacidad instalada    float64\n",
       "dtype: object"
      ]
     },
     "execution_count": 4,
     "metadata": {},
     "output_type": "execute_result"
    }
   ],
   "source": [
    "capacities.dtypes"
   ]
  },
  {
   "cell_type": "code",
   "execution_count": 6,
   "metadata": {},
   "outputs": [],
   "source": [
    "# select important columns and rename\n",
    "capacities = capacities.iloc[:,[0,1,2,4,5,6,7]]\n",
    "capacities.columns =[\n",
    "    'nom_sede_ips',\n",
    "    'nit_ips',\n",
    "    'naturaleza',\n",
    "    'nivel_atencion',\n",
    "    'grupo_capacidad',\n",
    "    'descripcion_capacidad',\n",
    "    'capacidad']"
   ]
  },
  {
   "cell_type": "code",
   "execution_count": 7,
   "metadata": {},
   "outputs": [
    {
     "data": {
      "text/html": [
       "<div>\n",
       "<style scoped>\n",
       "    .dataframe tbody tr th:only-of-type {\n",
       "        vertical-align: middle;\n",
       "    }\n",
       "\n",
       "    .dataframe tbody tr th {\n",
       "        vertical-align: top;\n",
       "    }\n",
       "\n",
       "    .dataframe thead th {\n",
       "        text-align: right;\n",
       "    }\n",
       "</style>\n",
       "<table border=\"1\" class=\"dataframe\">\n",
       "  <thead>\n",
       "    <tr style=\"text-align: right;\">\n",
       "      <th></th>\n",
       "      <th>nom_sede_ips</th>\n",
       "      <th>nit_ips</th>\n",
       "      <th>naturaleza</th>\n",
       "      <th>nivel_atencion</th>\n",
       "      <th>grupo_capacidad</th>\n",
       "      <th>descripcion_capacidad</th>\n",
       "      <th>capacidad</th>\n",
       "    </tr>\n",
       "  </thead>\n",
       "  <tbody>\n",
       "    <tr>\n",
       "      <th>0</th>\n",
       "      <td>CLINICA VIVE</td>\n",
       "      <td>900450008.0</td>\n",
       "      <td>Privada</td>\n",
       "      <td>NaN</td>\n",
       "      <td>CAMAS</td>\n",
       "      <td>Psiquiatría</td>\n",
       "      <td>44.0</td>\n",
       "    </tr>\n",
       "    <tr>\n",
       "      <th>1</th>\n",
       "      <td>CAMPONUEVO CISNE 2</td>\n",
       "      <td>830100595.0</td>\n",
       "      <td>Privada</td>\n",
       "      <td>NaN</td>\n",
       "      <td>CAMAS</td>\n",
       "      <td>Psiquiatría</td>\n",
       "      <td>15.0</td>\n",
       "    </tr>\n",
       "    <tr>\n",
       "      <th>2</th>\n",
       "      <td>COVEN</td>\n",
       "      <td>900280825.0</td>\n",
       "      <td>Privada</td>\n",
       "      <td>NaN</td>\n",
       "      <td>CAMAS</td>\n",
       "      <td>Adultos</td>\n",
       "      <td>12.0</td>\n",
       "    </tr>\n",
       "    <tr>\n",
       "      <th>3</th>\n",
       "      <td>GASTROCAL SAS</td>\n",
       "      <td>900690781.0</td>\n",
       "      <td>Privada</td>\n",
       "      <td>NaN</td>\n",
       "      <td>SALAS</td>\n",
       "      <td>Procedimientos</td>\n",
       "      <td>2.0</td>\n",
       "    </tr>\n",
       "    <tr>\n",
       "      <th>4</th>\n",
       "      <td>DACARE IPS</td>\n",
       "      <td>900883992.0</td>\n",
       "      <td>Privada</td>\n",
       "      <td>NaN</td>\n",
       "      <td>CAMAS</td>\n",
       "      <td>Adultos</td>\n",
       "      <td>2.0</td>\n",
       "    </tr>\n",
       "  </tbody>\n",
       "</table>\n",
       "</div>"
      ],
      "text/plain": [
       "         nom_sede_ips      nit_ips naturaleza  nivel_atencion grupo_capacidad  \\\n",
       "0        CLINICA VIVE  900450008.0    Privada             NaN           CAMAS   \n",
       "1  CAMPONUEVO CISNE 2  830100595.0    Privada             NaN           CAMAS   \n",
       "2               COVEN  900280825.0    Privada             NaN           CAMAS   \n",
       "3       GASTROCAL SAS  900690781.0    Privada             NaN           SALAS   \n",
       "4          DACARE IPS  900883992.0    Privada             NaN           CAMAS   \n",
       "\n",
       "  descripcion_capacidad  capacidad  \n",
       "0           Psiquiatría       44.0  \n",
       "1           Psiquiatría       15.0  \n",
       "2               Adultos       12.0  \n",
       "3        Procedimientos        2.0  \n",
       "4               Adultos        2.0  "
      ]
     },
     "execution_count": 7,
     "metadata": {},
     "output_type": "execute_result"
    }
   ],
   "source": [
    "capacities.head()"
   ]
  },
  {
   "cell_type": "markdown",
   "metadata": {},
   "source": [
    "Algunas no tienen nit y lo imputamos por ahora con 0"
   ]
  },
  {
   "cell_type": "code",
   "execution_count": 9,
   "metadata": {},
   "outputs": [
    {
     "name": "stderr",
     "output_type": "stream",
     "text": [
      "<ipython-input-9-338d3c73c266>:1: SettingWithCopyWarning: \n",
      "A value is trying to be set on a copy of a slice from a DataFrame.\n",
      "Try using .loc[row_indexer,col_indexer] = value instead\n",
      "\n",
      "See the caveats in the documentation: https://pandas.pydata.org/pandas-docs/stable/user_guide/indexing.html#returning-a-view-versus-a-copy\n",
      "  capacities['nit_ips'] = capacities['nit_ips'].fillna(0).astype(int).astype(str)\n"
     ]
    }
   ],
   "source": [
    "capacities['nit_ips'] = capacities['nit_ips'].fillna(0).astype(int).astype(str)"
   ]
  },
  {
   "cell_type": "code",
   "execution_count": 10,
   "metadata": {},
   "outputs": [],
   "source": [
    "# guardamos archivo intermedio\n",
    "capacities.to_parquet('../data/02_processed/capacities.parquet')"
   ]
  },
  {
   "cell_type": "code",
   "execution_count": 11,
   "metadata": {},
   "outputs": [],
   "source": [
    "# esto permite obtener el conjunto unico de ips. Algo asi como un id\n",
    "national_ips = capacities[['nom_sede_ips', 'nit_ips']].drop_duplicates()"
   ]
  },
  {
   "cell_type": "code",
   "execution_count": 12,
   "metadata": {},
   "outputs": [
    {
     "data": {
      "text/plain": [
       "(3765, 2)"
      ]
     },
     "execution_count": 12,
     "metadata": {},
     "output_type": "execute_result"
    }
   ],
   "source": [
    "national_ips.shape"
   ]
  },
  {
   "cell_type": "markdown",
   "metadata": {},
   "source": [
    "## Ubicacion de las IPS"
   ]
  },
  {
   "cell_type": "markdown",
   "metadata": {},
   "source": [
    "importamos la data de ips de la informacion del catastro"
   ]
  },
  {
   "cell_type": "code",
   "execution_count": 13,
   "metadata": {},
   "outputs": [],
   "source": [
    "import requests"
   ]
  },
  {
   "cell_type": "code",
   "execution_count": 14,
   "metadata": {},
   "outputs": [],
   "source": [
    "# read all ips from esri query\n",
    "json_url = \"https://catalogopmb.catastrobogota.gov.co/PMBWeb/web/exportar?cmd=export&ID_SERVICIO=541&xmin=-8372083.210284375&ymin=475445.22783197014&xmax=-8137268.659392426&ymax=551882.2561171096&spatialReference=102100\"\n",
    "\n",
    "r = requests.get(json_url)"
   ]
  },
  {
   "cell_type": "code",
   "execution_count": 15,
   "metadata": {},
   "outputs": [
    {
     "data": {
      "text/plain": [
       "200"
      ]
     },
     "execution_count": 15,
     "metadata": {},
     "output_type": "execute_result"
    }
   ],
   "source": [
    "r.status_code"
   ]
  },
  {
   "cell_type": "code",
   "execution_count": 16,
   "metadata": {},
   "outputs": [],
   "source": [
    "ips_geo = pd.DataFrame(r.json()['resultados'])"
   ]
  },
  {
   "cell_type": "code",
   "execution_count": 17,
   "metadata": {},
   "outputs": [
    {
     "name": "stdout",
     "output_type": "stream",
     "text": [
      "<class 'pandas.core.frame.DataFrame'>\n",
      "RangeIndex: 2984 entries, 0 to 2983\n",
      "Data columns (total 14 columns):\n",
      " #   Column                            Non-Null Count  Dtype \n",
      "---  ------                            --------------  ----- \n",
      " 0   Dirección                         2984 non-null   object\n",
      " 1   Clase de Prestador                2984 non-null   object\n",
      " 2   Número Identificación Tributaria  2984 non-null   object\n",
      " 3   Naturaleza Jurídica               2984 non-null   object\n",
      " 4   Correo Electrónico                2984 non-null   object\n",
      " 5   Clase de Persona                  2984 non-null   object\n",
      " 6   Código de Habilitación            2984 non-null   int64 \n",
      " 7   OBJECTID                          2984 non-null   int64 \n",
      " 8   Nombre de la IPS                  2984 non-null   object\n",
      " 9   Object_ID                         2984 non-null   int64 \n",
      " 10  Número de Fax                     2984 non-null   object\n",
      " 11  Número de Teléfono                2984 non-null   object\n",
      " 12  Código del Prestador              2984 non-null   object\n",
      " 13  geometry                          2984 non-null   object\n",
      "dtypes: int64(3), object(11)\n",
      "memory usage: 326.5+ KB\n"
     ]
    }
   ],
   "source": [
    "ips_geo.info()"
   ]
  },
  {
   "cell_type": "code",
   "execution_count": 18,
   "metadata": {},
   "outputs": [],
   "source": [
    "# select columns and rename\n",
    "ips_geo = ips_geo.iloc[:, [0,1,2,6,7,8,13]]\n",
    "ips_geo.columns = [\n",
    "    'direccion',\n",
    "    'clase_de_prestador',\n",
    "    'nit_ips',\n",
    "    'codigo_de_habilitacion',\n",
    "    'id_ips',\n",
    "    'nombre_ips',\n",
    "    'geometry']\n",
    "\n",
    "\n",
    "# [c.lower().replace(' ', '_') for c in ips_geo.columns]"
   ]
  },
  {
   "cell_type": "code",
   "execution_count": 19,
   "metadata": {},
   "outputs": [
    {
     "data": {
      "text/html": [
       "<div>\n",
       "<style scoped>\n",
       "    .dataframe tbody tr th:only-of-type {\n",
       "        vertical-align: middle;\n",
       "    }\n",
       "\n",
       "    .dataframe tbody tr th {\n",
       "        vertical-align: top;\n",
       "    }\n",
       "\n",
       "    .dataframe thead th {\n",
       "        text-align: right;\n",
       "    }\n",
       "</style>\n",
       "<table border=\"1\" class=\"dataframe\">\n",
       "  <thead>\n",
       "    <tr style=\"text-align: right;\">\n",
       "      <th></th>\n",
       "      <th>direccion</th>\n",
       "      <th>clase_de_prestador</th>\n",
       "      <th>nit_ips</th>\n",
       "      <th>codigo_de_habilitacion</th>\n",
       "      <th>id_ips</th>\n",
       "      <th>nombre_ips</th>\n",
       "      <th>longitud_ips</th>\n",
       "      <th>latitud_ips</th>\n",
       "    </tr>\n",
       "  </thead>\n",
       "  <tbody>\n",
       "    <tr>\n",
       "      <th>0</th>\n",
       "      <td>AV. CRA. 9 116 - 20 CS. 201, 219A, 219B.</td>\n",
       "      <td>Instituciones - IPS</td>\n",
       "      <td>800173625</td>\n",
       "      <td>110010199501</td>\n",
       "      <td>2</td>\n",
       "      <td>LABORATORIO DE OTONEUROLOGIA - INSTITUTO NACIO...</td>\n",
       "      <td>-74.033780</td>\n",
       "      <td>4.694807</td>\n",
       "    </tr>\n",
       "    <tr>\n",
       "      <th>1</th>\n",
       "      <td>AC 33 # 14 37</td>\n",
       "      <td>Instituciones - IPS</td>\n",
       "      <td>830099212</td>\n",
       "      <td>110010905601</td>\n",
       "      <td>4</td>\n",
       "      <td>CENTRO DE INVESTIGACIONES ONCOLOGICAS CLINICA ...</td>\n",
       "      <td>-74.069838</td>\n",
       "      <td>4.621248</td>\n",
       "    </tr>\n",
       "    <tr>\n",
       "      <th>2</th>\n",
       "      <td>AC 13 N 65 -21</td>\n",
       "      <td>Instituciones - IPS</td>\n",
       "      <td>800149384</td>\n",
       "      <td>110010918632</td>\n",
       "      <td>9</td>\n",
       "      <td>CLINISANITAS DIAGNOSTICO ZONA IN</td>\n",
       "      <td>-74.116059</td>\n",
       "      <td>4.634265</td>\n",
       "    </tr>\n",
       "    <tr>\n",
       "      <th>3</th>\n",
       "      <td>CL 63 N 22-22</td>\n",
       "      <td>Instituciones - IPS</td>\n",
       "      <td>900116722</td>\n",
       "      <td>110011709301</td>\n",
       "      <td>10</td>\n",
       "      <td>MISION SALUD INTERNACIONAL SAS CALLE 63</td>\n",
       "      <td>-74.071383</td>\n",
       "      <td>4.651043</td>\n",
       "    </tr>\n",
       "    <tr>\n",
       "      <th>4</th>\n",
       "      <td>AUTOP N No. 95-29</td>\n",
       "      <td>Instituciones - IPS</td>\n",
       "      <td>900098985</td>\n",
       "      <td>110011960301</td>\n",
       "      <td>17</td>\n",
       "      <td>VIHONCO IPS BOGOTA</td>\n",
       "      <td>-74.058287</td>\n",
       "      <td>4.683874</td>\n",
       "    </tr>\n",
       "  </tbody>\n",
       "</table>\n",
       "</div>"
      ],
      "text/plain": [
       "                                  direccion   clase_de_prestador    nit_ips  \\\n",
       "0  AV. CRA. 9 116 - 20 CS. 201, 219A, 219B.  Instituciones - IPS  800173625   \n",
       "1                             AC 33 # 14 37  Instituciones - IPS  830099212   \n",
       "2                            AC 13 N 65 -21  Instituciones - IPS  800149384   \n",
       "3                             CL 63 N 22-22  Instituciones - IPS  900116722   \n",
       "4                         AUTOP N No. 95-29  Instituciones - IPS  900098985   \n",
       "\n",
       "   codigo_de_habilitacion  id_ips  \\\n",
       "0            110010199501       2   \n",
       "1            110010905601       4   \n",
       "2            110010918632       9   \n",
       "3            110011709301      10   \n",
       "4            110011960301      17   \n",
       "\n",
       "                                          nombre_ips  longitud_ips  \\\n",
       "0  LABORATORIO DE OTONEUROLOGIA - INSTITUTO NACIO...    -74.033780   \n",
       "1  CENTRO DE INVESTIGACIONES ONCOLOGICAS CLINICA ...    -74.069838   \n",
       "2                   CLINISANITAS DIAGNOSTICO ZONA IN    -74.116059   \n",
       "3            MISION SALUD INTERNACIONAL SAS CALLE 63    -74.071383   \n",
       "4                                 VIHONCO IPS BOGOTA    -74.058287   \n",
       "\n",
       "   latitud_ips  \n",
       "0     4.694807  \n",
       "1     4.621248  \n",
       "2     4.634265  \n",
       "3     4.651043  \n",
       "4     4.683874  "
      ]
     },
     "execution_count": 19,
     "metadata": {},
     "output_type": "execute_result"
    }
   ],
   "source": [
    "ips_geo = (ips_geo.\n",
    "     assign(longitud_ips=lambda x: x.geometry.apply(lambda g: g['x']),\n",
    "            latitud_ips=lambda x: x.geometry.apply(lambda g: g['y'])).\n",
    "     drop('geometry', axis=1)\n",
    ")\n",
    "\n",
    "ips_geo.head()"
   ]
  },
  {
   "cell_type": "code",
   "execution_count": 20,
   "metadata": {},
   "outputs": [
    {
     "name": "stdout",
     "output_type": "stream",
     "text": [
      "(2984, 8)\n",
      "1617\n"
     ]
    }
   ],
   "source": [
    "print(ips_geo.shape)\n",
    "print(ips_geo.nit_ips.nunique())"
   ]
  },
  {
   "cell_type": "markdown",
   "metadata": {},
   "source": [
    "## ips importantes\n",
    "Vamos a asumir que las ips que requieren mejor eficiencia en el flujo son las ips que pueden atender casos del virus, y tienen camas, estas ips se encuentran especificadas en el dataset de capacidades"
   ]
  },
  {
   "cell_type": "code",
   "execution_count": 21,
   "metadata": {},
   "outputs": [],
   "source": [
    "ips_geo_important = ips_geo.loc[ips_geo['nit_ips'].isin(national_ips['nit_ips'])]"
   ]
  },
  {
   "cell_type": "code",
   "execution_count": 22,
   "metadata": {},
   "outputs": [
    {
     "data": {
      "text/plain": [
       "(2984, 8)"
      ]
     },
     "execution_count": 22,
     "metadata": {},
     "output_type": "execute_result"
    }
   ],
   "source": [
    "ips_geo.shape"
   ]
  },
  {
   "cell_type": "code",
   "execution_count": 23,
   "metadata": {},
   "outputs": [
    {
     "data": {
      "text/html": [
       "<div>\n",
       "<style scoped>\n",
       "    .dataframe tbody tr th:only-of-type {\n",
       "        vertical-align: middle;\n",
       "    }\n",
       "\n",
       "    .dataframe tbody tr th {\n",
       "        vertical-align: top;\n",
       "    }\n",
       "\n",
       "    .dataframe thead th {\n",
       "        text-align: right;\n",
       "    }\n",
       "</style>\n",
       "<table border=\"1\" class=\"dataframe\">\n",
       "  <thead>\n",
       "    <tr style=\"text-align: right;\">\n",
       "      <th></th>\n",
       "      <th>direccion</th>\n",
       "      <th>clase_de_prestador</th>\n",
       "      <th>nit_ips</th>\n",
       "      <th>codigo_de_habilitacion</th>\n",
       "      <th>id_ips</th>\n",
       "      <th>nombre_ips</th>\n",
       "      <th>longitud_ips</th>\n",
       "      <th>latitud_ips</th>\n",
       "    </tr>\n",
       "  </thead>\n",
       "  <tbody>\n",
       "    <tr>\n",
       "      <th>1</th>\n",
       "      <td>AC 33 # 14 37</td>\n",
       "      <td>Instituciones - IPS</td>\n",
       "      <td>830099212</td>\n",
       "      <td>110010905601</td>\n",
       "      <td>4</td>\n",
       "      <td>CENTRO DE INVESTIGACIONES ONCOLOGICAS CLINICA ...</td>\n",
       "      <td>-74.069838</td>\n",
       "      <td>4.621248</td>\n",
       "    </tr>\n",
       "    <tr>\n",
       "      <th>2</th>\n",
       "      <td>AC 13 N 65 -21</td>\n",
       "      <td>Instituciones - IPS</td>\n",
       "      <td>800149384</td>\n",
       "      <td>110010918632</td>\n",
       "      <td>9</td>\n",
       "      <td>CLINISANITAS DIAGNOSTICO ZONA IN</td>\n",
       "      <td>-74.116059</td>\n",
       "      <td>4.634265</td>\n",
       "    </tr>\n",
       "    <tr>\n",
       "      <th>3</th>\n",
       "      <td>CL 63 N 22-22</td>\n",
       "      <td>Instituciones - IPS</td>\n",
       "      <td>900116722</td>\n",
       "      <td>110011709301</td>\n",
       "      <td>10</td>\n",
       "      <td>MISION SALUD INTERNACIONAL SAS CALLE 63</td>\n",
       "      <td>-74.071383</td>\n",
       "      <td>4.651043</td>\n",
       "    </tr>\n",
       "    <tr>\n",
       "      <th>5</th>\n",
       "      <td>KR 13 B # 161-85</td>\n",
       "      <td>Instituciones - IPS</td>\n",
       "      <td>860035992</td>\n",
       "      <td>110010911103</td>\n",
       "      <td>19</td>\n",
       "      <td>FUNDACIÓN CARDIOINFANTIL-INSTITUTO DE CARDIOLOGÍA</td>\n",
       "      <td>-74.034409</td>\n",
       "      <td>4.740787</td>\n",
       "    </tr>\n",
       "    <tr>\n",
       "      <th>9</th>\n",
       "      <td>Carrera 19 N 102-31</td>\n",
       "      <td>Instituciones - IPS</td>\n",
       "      <td>830018305</td>\n",
       "      <td>110010919912</td>\n",
       "      <td>38</td>\n",
       "      <td>JAVESALUD ALLIANZ</td>\n",
       "      <td>-74.052213</td>\n",
       "      <td>4.688005</td>\n",
       "    </tr>\n",
       "    <tr>\n",
       "      <th>...</th>\n",
       "      <td>...</td>\n",
       "      <td>...</td>\n",
       "      <td>...</td>\n",
       "      <td>...</td>\n",
       "      <td>...</td>\n",
       "      <td>...</td>\n",
       "      <td>...</td>\n",
       "      <td>...</td>\n",
       "    </tr>\n",
       "    <tr>\n",
       "      <th>2973</th>\n",
       "      <td>Calle 57 Sur # 89B - 19</td>\n",
       "      <td>Instituciones - IPS</td>\n",
       "      <td>900959048</td>\n",
       "      <td>110013029641</td>\n",
       "      <td>2958</td>\n",
       "      <td>Unidad de Servicios de Salud Cabañas</td>\n",
       "      <td>-74.190161</td>\n",
       "      <td>4.630956</td>\n",
       "    </tr>\n",
       "    <tr>\n",
       "      <th>2974</th>\n",
       "      <td>Transversal 72b No. 44D - 21 Sur</td>\n",
       "      <td>Instituciones - IPS</td>\n",
       "      <td>900959048</td>\n",
       "      <td>110013029649</td>\n",
       "      <td>2962</td>\n",
       "      <td>Unidad de Servicios de Salud Nuevas Delicias</td>\n",
       "      <td>-74.146654</td>\n",
       "      <td>4.599930</td>\n",
       "    </tr>\n",
       "    <tr>\n",
       "      <th>2975</th>\n",
       "      <td>Cra 78 #35-21 Sur</td>\n",
       "      <td>Instituciones - IPS</td>\n",
       "      <td>900959048</td>\n",
       "      <td>110013029651</td>\n",
       "      <td>2964</td>\n",
       "      <td>Unidad de Servicios de Salud 29 Kennedy</td>\n",
       "      <td>-74.148330</td>\n",
       "      <td>4.623594</td>\n",
       "    </tr>\n",
       "    <tr>\n",
       "      <th>2976</th>\n",
       "      <td>CARRERA 19A N° 85-11</td>\n",
       "      <td>Instituciones - IPS</td>\n",
       "      <td>800127648</td>\n",
       "      <td>110010845605</td>\n",
       "      <td>2972</td>\n",
       "      <td>HORUS IBERIA CALLE 85</td>\n",
       "      <td>-74.057976</td>\n",
       "      <td>4.671706</td>\n",
       "    </tr>\n",
       "    <tr>\n",
       "      <th>2979</th>\n",
       "      <td>Carrera 12#98-64 SALA 1 PI 2</td>\n",
       "      <td>Instituciones - IPS</td>\n",
       "      <td>830027158</td>\n",
       "      <td>110011243703</td>\n",
       "      <td>2977</td>\n",
       "      <td>RIESGO DE FRACTURA S A</td>\n",
       "      <td>-74.045806</td>\n",
       "      <td>4.682405</td>\n",
       "    </tr>\n",
       "  </tbody>\n",
       "</table>\n",
       "<p>920 rows × 8 columns</p>\n",
       "</div>"
      ],
      "text/plain": [
       "                             direccion   clase_de_prestador    nit_ips  \\\n",
       "1                        AC 33 # 14 37  Instituciones - IPS  830099212   \n",
       "2                       AC 13 N 65 -21  Instituciones - IPS  800149384   \n",
       "3                        CL 63 N 22-22  Instituciones - IPS  900116722   \n",
       "5                     KR 13 B # 161-85  Instituciones - IPS  860035992   \n",
       "9                  Carrera 19 N 102-31  Instituciones - IPS  830018305   \n",
       "...                                ...                  ...        ...   \n",
       "2973           Calle 57 Sur # 89B - 19  Instituciones - IPS  900959048   \n",
       "2974  Transversal 72b No. 44D - 21 Sur  Instituciones - IPS  900959048   \n",
       "2975                 Cra 78 #35-21 Sur  Instituciones - IPS  900959048   \n",
       "2976              CARRERA 19A N° 85-11  Instituciones - IPS  800127648   \n",
       "2979      Carrera 12#98-64 SALA 1 PI 2  Instituciones - IPS  830027158   \n",
       "\n",
       "      codigo_de_habilitacion  id_ips  \\\n",
       "1               110010905601       4   \n",
       "2               110010918632       9   \n",
       "3               110011709301      10   \n",
       "5               110010911103      19   \n",
       "9               110010919912      38   \n",
       "...                      ...     ...   \n",
       "2973            110013029641    2958   \n",
       "2974            110013029649    2962   \n",
       "2975            110013029651    2964   \n",
       "2976            110010845605    2972   \n",
       "2979            110011243703    2977   \n",
       "\n",
       "                                             nombre_ips  longitud_ips  \\\n",
       "1     CENTRO DE INVESTIGACIONES ONCOLOGICAS CLINICA ...    -74.069838   \n",
       "2                      CLINISANITAS DIAGNOSTICO ZONA IN    -74.116059   \n",
       "3               MISION SALUD INTERNACIONAL SAS CALLE 63    -74.071383   \n",
       "5     FUNDACIÓN CARDIOINFANTIL-INSTITUTO DE CARDIOLOGÍA    -74.034409   \n",
       "9                                     JAVESALUD ALLIANZ    -74.052213   \n",
       "...                                                 ...           ...   \n",
       "2973               Unidad de Servicios de Salud Cabañas    -74.190161   \n",
       "2974       Unidad de Servicios de Salud Nuevas Delicias    -74.146654   \n",
       "2975            Unidad de Servicios de Salud 29 Kennedy    -74.148330   \n",
       "2976                              HORUS IBERIA CALLE 85    -74.057976   \n",
       "2979                             RIESGO DE FRACTURA S A    -74.045806   \n",
       "\n",
       "      latitud_ips  \n",
       "1        4.621248  \n",
       "2        4.634265  \n",
       "3        4.651043  \n",
       "5        4.740787  \n",
       "9        4.688005  \n",
       "...           ...  \n",
       "2973     4.630956  \n",
       "2974     4.599930  \n",
       "2975     4.623594  \n",
       "2976     4.671706  \n",
       "2979     4.682405  \n",
       "\n",
       "[920 rows x 8 columns]"
      ]
     },
     "execution_count": 23,
     "metadata": {},
     "output_type": "execute_result"
    }
   ],
   "source": [
    "ips_geo_important"
   ]
  },
  {
   "cell_type": "code",
   "execution_count": 24,
   "metadata": {},
   "outputs": [],
   "source": [
    "ips_geo_important.to_csv('../data/02_processed/ips_geo_important.csv')\n",
    "ips_geo_important.to_parquet('../data/02_processed/ips_geo_important.parquet')"
   ]
  },
  {
   "cell_type": "markdown",
   "metadata": {},
   "source": [
    "Same with capacities, we can filter only those that ended up in important"
   ]
  },
  {
   "cell_type": "code",
   "execution_count": 25,
   "metadata": {},
   "outputs": [],
   "source": [
    "capacities_important = capacities.loc[lambda x: x.nit_ips.isin(ips_geo_important.nit_ips)]"
   ]
  },
  {
   "cell_type": "code",
   "execution_count": 26,
   "metadata": {},
   "outputs": [],
   "source": [
    "capacities_important.to_parquet('../data/02_processed/capacities_important.parquet')\n",
    "capacities_important.to_csv('../data/02_processed/capacities_important.csv')"
   ]
  },
  {
   "cell_type": "markdown",
   "metadata": {},
   "source": [
    "This data need further processing, but well see what needs to be done in `main_analysis`"
   ]
  },
  {
   "cell_type": "markdown",
   "metadata": {},
   "source": [
    "## Transmilenio data"
   ]
  },
  {
   "cell_type": "code",
   "execution_count": 27,
   "metadata": {},
   "outputs": [],
   "source": [
    "estaciones = pd.read_csv('../data/01_raw/estaciones_transmilenio.csv')"
   ]
  },
  {
   "cell_type": "code",
   "execution_count": 28,
   "metadata": {},
   "outputs": [
    {
     "data": {
      "text/plain": [
       "Index(['X', 'Y', 'objectid', 'numero_estacion', 'nombre_estacion',\n",
       "       'coordenada_x_estacion', 'coordenada_y_estacion', 'ubicacion_estacion',\n",
       "       'troncal_estacion', 'numero_vagones_estacion',\n",
       "       'numero_accesos_estacion', 'biciestacion_estacion',\n",
       "       'capacidad_biciestacion_estacion', 'tipo_estacion',\n",
       "       'biciparqueadero_estacion', 'latitud_estacion', 'longitud_estacion',\n",
       "       'globalid'],\n",
       "      dtype='object')"
      ]
     },
     "execution_count": 28,
     "metadata": {},
     "output_type": "execute_result"
    }
   ],
   "source": [
    "estaciones.columns"
   ]
  },
  {
   "cell_type": "code",
   "execution_count": 29,
   "metadata": {},
   "outputs": [],
   "source": [
    "estaciones = estaciones[['numero_estacion', 'nombre_estacion', 'ubicacion_estacion', 'troncal_estacion',\n",
    "                         'numero_vagones_estacion',\n",
    "       'numero_accesos_estacion', 'biciestacion_estacion',\n",
    "       'capacidad_biciestacion_estacion', 'tipo_estacion',\n",
    "       'biciparqueadero_estacion', 'latitud_estacion', 'longitud_estacion']]"
   ]
  },
  {
   "cell_type": "code",
   "execution_count": 30,
   "metadata": {},
   "outputs": [
    {
     "data": {
      "text/html": [
       "<div>\n",
       "<style scoped>\n",
       "    .dataframe tbody tr th:only-of-type {\n",
       "        vertical-align: middle;\n",
       "    }\n",
       "\n",
       "    .dataframe tbody tr th {\n",
       "        vertical-align: top;\n",
       "    }\n",
       "\n",
       "    .dataframe thead th {\n",
       "        text-align: right;\n",
       "    }\n",
       "</style>\n",
       "<table border=\"1\" class=\"dataframe\">\n",
       "  <thead>\n",
       "    <tr style=\"text-align: right;\">\n",
       "      <th></th>\n",
       "      <th>numero_estacion</th>\n",
       "      <th>nombre_estacion</th>\n",
       "      <th>ubicacion_estacion</th>\n",
       "      <th>troncal_estacion</th>\n",
       "      <th>numero_vagones_estacion</th>\n",
       "      <th>numero_accesos_estacion</th>\n",
       "      <th>biciestacion_estacion</th>\n",
       "      <th>capacidad_biciestacion_estacion</th>\n",
       "      <th>tipo_estacion</th>\n",
       "      <th>biciparqueadero_estacion</th>\n",
       "      <th>latitud_estacion</th>\n",
       "      <th>longitud_estacion</th>\n",
       "    </tr>\n",
       "  </thead>\n",
       "  <tbody>\n",
       "    <tr>\n",
       "      <th>0</th>\n",
       "      <td>4003</td>\n",
       "      <td>AV. Cali</td>\n",
       "      <td>Carrera 86</td>\n",
       "      <td>Calle 80</td>\n",
       "      <td>1</td>\n",
       "      <td>1</td>\n",
       "      <td>0</td>\n",
       "      <td>0</td>\n",
       "      <td>INTERMEDIA</td>\n",
       "      <td>NO</td>\n",
       "      <td>4.702500</td>\n",
       "      <td>-74.100253</td>\n",
       "    </tr>\n",
       "    <tr>\n",
       "      <th>1</th>\n",
       "      <td>7004</td>\n",
       "      <td>Venecia</td>\n",
       "      <td>AutoSur-Av 54</td>\n",
       "      <td>NQS</td>\n",
       "      <td>2</td>\n",
       "      <td>1</td>\n",
       "      <td>0</td>\n",
       "      <td>0</td>\n",
       "      <td>SENCILLA</td>\n",
       "      <td>NO</td>\n",
       "      <td>4.595713</td>\n",
       "      <td>-74.141590</td>\n",
       "    </tr>\n",
       "    <tr>\n",
       "      <th>2</th>\n",
       "      <td>4105</td>\n",
       "      <td>Carrera 53</td>\n",
       "      <td>Carrera 53</td>\n",
       "      <td>Calle 80</td>\n",
       "      <td>1</td>\n",
       "      <td>1</td>\n",
       "      <td>0</td>\n",
       "      <td>0</td>\n",
       "      <td>SENCILLA</td>\n",
       "      <td>NO</td>\n",
       "      <td>4.681940</td>\n",
       "      <td>-74.077365</td>\n",
       "    </tr>\n",
       "    <tr>\n",
       "      <th>3</th>\n",
       "      <td>7104</td>\n",
       "      <td>Simón Bolívar</td>\n",
       "      <td>Kr 30 CL 63</td>\n",
       "      <td>NQS</td>\n",
       "      <td>2</td>\n",
       "      <td>1</td>\n",
       "      <td>0</td>\n",
       "      <td>0</td>\n",
       "      <td>SENCILLA</td>\n",
       "      <td>NO</td>\n",
       "      <td>4.657063</td>\n",
       "      <td>-74.077754</td>\n",
       "    </tr>\n",
       "    <tr>\n",
       "      <th>4</th>\n",
       "      <td>4000</td>\n",
       "      <td>Portal de la 80</td>\n",
       "      <td>Carrera 96</td>\n",
       "      <td>Calle 80</td>\n",
       "      <td>0</td>\n",
       "      <td>0</td>\n",
       "      <td>1</td>\n",
       "      <td>353</td>\n",
       "      <td>CABECERA</td>\n",
       "      <td>SI</td>\n",
       "      <td>4.709523</td>\n",
       "      <td>-74.110525</td>\n",
       "    </tr>\n",
       "  </tbody>\n",
       "</table>\n",
       "</div>"
      ],
      "text/plain": [
       "   numero_estacion  nombre_estacion ubicacion_estacion troncal_estacion  \\\n",
       "0             4003         AV. Cali         Carrera 86         Calle 80   \n",
       "1             7004          Venecia      AutoSur-Av 54              NQS   \n",
       "2             4105       Carrera 53         Carrera 53         Calle 80   \n",
       "3             7104    Simón Bolívar        Kr 30 CL 63              NQS   \n",
       "4             4000  Portal de la 80         Carrera 96         Calle 80   \n",
       "\n",
       "   numero_vagones_estacion  numero_accesos_estacion  biciestacion_estacion  \\\n",
       "0                        1                        1                      0   \n",
       "1                        2                        1                      0   \n",
       "2                        1                        1                      0   \n",
       "3                        2                        1                      0   \n",
       "4                        0                        0                      1   \n",
       "\n",
       "   capacidad_biciestacion_estacion tipo_estacion biciparqueadero_estacion  \\\n",
       "0                                0    INTERMEDIA                       NO   \n",
       "1                                0      SENCILLA                       NO   \n",
       "2                                0      SENCILLA                       NO   \n",
       "3                                0      SENCILLA                       NO   \n",
       "4                              353      CABECERA                       SI   \n",
       "\n",
       "   latitud_estacion  longitud_estacion  \n",
       "0          4.702500         -74.100253  \n",
       "1          4.595713         -74.141590  \n",
       "2          4.681940         -74.077365  \n",
       "3          4.657063         -74.077754  \n",
       "4          4.709523         -74.110525  "
      ]
     },
     "execution_count": 30,
     "metadata": {},
     "output_type": "execute_result"
    }
   ],
   "source": [
    "estaciones.head()"
   ]
  },
  {
   "cell_type": "code",
   "execution_count": 31,
   "metadata": {},
   "outputs": [],
   "source": [
    "estaciones.to_parquet('../data/02_processed/estaciones.parquet')"
   ]
  },
  {
   "cell_type": "markdown",
   "metadata": {},
   "source": [
    "## Movilidad\n",
    "La idea con estos datos es sacar a que puntos se estan moviendo las personas. Con esto, podemos estimar que tan lejos viven las personas de su trabajo."
   ]
  },
  {
   "cell_type": "code",
   "execution_count": 32,
   "metadata": {},
   "outputs": [],
   "source": [
    "# cargamos datos de viajes\n",
    "viajes=pd.read_csv('../data/01_raw/movilidad/ViajesEODH2019.csv', sep=';')"
   ]
  },
  {
   "cell_type": "code",
   "execution_count": 33,
   "metadata": {},
   "outputs": [
    {
     "data": {
      "text/plain": [
       "(134497, 36)"
      ]
     },
     "execution_count": 33,
     "metadata": {},
     "output_type": "execute_result"
    }
   ],
   "source": [
    "viajes.shape"
   ]
  },
  {
   "cell_type": "code",
   "execution_count": 35,
   "metadata": {},
   "outputs": [
    {
     "data": {
      "text/plain": [
       "p29_id_municipio\n",
       "25473.0      1075\n",
       "25758.0      1078\n",
       "25175.0      1529\n",
       "25754.0      3667\n",
       "11001.0    109719\n",
       "Name: p29_id_municipio, dtype: int64"
      ]
     },
     "execution_count": 35,
     "metadata": {},
     "output_type": "execute_result"
    }
   ],
   "source": [
    "viajes.groupby('p29_id_municipio').p29_id_municipio.count().sort_values().tail()"
   ]
  },
  {
   "cell_type": "code",
   "execution_count": 36,
   "metadata": {},
   "outputs": [
    {
     "data": {
      "text/plain": [
       "Index(['id_hogar', 'id_persona', 'id_viaje', 'fecha', 'lugar_origen',\n",
       "       'zat_origen', 'p17_Id_motivo_viaje', 'p17_otro_motivo',\n",
       "       'hora_inicio_viaje', 'p28_lugar_destino', 'zat_destino',\n",
       "       'p29_id_municipio', 'p30_camino_cuadras', 'p30_camino_minutos',\n",
       "       'p31_hora_llegada', 'p32_lunes', 'p32_martes', 'p32_miercoles',\n",
       "       'p32_jueves', 'p32_viernes', 'p32_sabado', 'p32_domingo',\n",
       "       'p32_ocasional', 'p33_aplicacion_antes_viaje',\n",
       "       'p33_cual_aplicacion_antes_viaje', 'p34_aplicacion_durante_viaje',\n",
       "       'p34_cual_aplicacion_durante_viaje', 'p35_otro_desplazamiento',\n",
       "       'p36_hora_salida', 'f_exp', 'mun_origen', 'mun_destino', 'utam_origen',\n",
       "       'utam_destino', 'modo_principal', 'modo_principal_desagregado'],\n",
       "      dtype='object')"
      ]
     },
     "execution_count": 36,
     "metadata": {},
     "output_type": "execute_result"
    }
   ],
   "source": [
    "#viajes.info()\n",
    "viajes.columns"
   ]
  },
  {
   "cell_type": "code",
   "execution_count": 37,
   "metadata": {},
   "outputs": [],
   "source": [
    "# keep only data well likely use\n",
    "viajes = (\n",
    "    viajes.\n",
    "    loc[lambda x:x.p29_id_municipio==11001]\n",
    "    [['id_hogar', 'id_persona', 'id_viaje', 'fecha', 'lugar_origen',\n",
    "       'zat_origen', 'p17_Id_motivo_viaje',\n",
    "       'hora_inicio_viaje', 'p28_lugar_destino',\n",
    "       'p30_camino_cuadras', 'p30_camino_minutos',\n",
    "       'p31_hora_llegada', 'p32_lunes', 'p32_martes', 'p32_miercoles',\n",
    "       'p32_jueves', 'p32_viernes', 'p32_sabado', 'p32_domingo',\n",
    "       'p32_ocasional', 'p35_otro_desplazamiento',\n",
    "       'p36_hora_salida', 'f_exp', 'utam_origen',\n",
    "       'utam_destino', 'modo_principal', 'modo_principal_desagregado']])"
   ]
  },
  {
   "cell_type": "markdown",
   "metadata": {},
   "source": [
    "Hacemos algo de exploracion para ver que filtros son relevantes, esta exploracion fue complementada en excel."
   ]
  },
  {
   "cell_type": "markdown",
   "metadata": {},
   "source": [
    "los viajes con `p17==1` indican trabajo, tambien incluimos solamente viajes frecuentes"
   ]
  },
  {
   "cell_type": "code",
   "execution_count": 50,
   "metadata": {},
   "outputs": [],
   "source": [
    "# los viajes frecuentes van a corresponder probablemente a trabajadores\n",
    "viajes_frecuentes = viajes.loc[lambda x: (x['p32_ocasional'].isnull()) & (x['p17_Id_motivo_viaje']==1)]"
   ]
  },
  {
   "cell_type": "code",
   "execution_count": 51,
   "metadata": {},
   "outputs": [
    {
     "data": {
      "text/plain": [
       "(13255, 27)"
      ]
     },
     "execution_count": 51,
     "metadata": {},
     "output_type": "execute_result"
    }
   ],
   "source": [
    "viajes_frecuentes.shape"
   ]
  },
  {
   "cell_type": "code",
   "execution_count": 52,
   "metadata": {},
   "outputs": [
    {
     "data": {
      "text/plain": [
       "Index(['id_hogar', 'id_persona', 'id_viaje', 'fecha', 'lugar_origen',\n",
       "       'zat_origen', 'p17_Id_motivo_viaje', 'hora_inicio_viaje',\n",
       "       'p28_lugar_destino', 'p30_camino_cuadras', 'p30_camino_minutos',\n",
       "       'p31_hora_llegada', 'p32_lunes', 'p32_martes', 'p32_miercoles',\n",
       "       'p32_jueves', 'p32_viernes', 'p32_sabado', 'p32_domingo',\n",
       "       'p32_ocasional', 'p35_otro_desplazamiento', 'p36_hora_salida', 'f_exp',\n",
       "       'utam_origen', 'utam_destino', 'modo_principal',\n",
       "       'modo_principal_desagregado'],\n",
       "      dtype='object')"
      ]
     },
     "execution_count": 52,
     "metadata": {},
     "output_type": "execute_result"
    }
   ],
   "source": [
    "viajes_frecuentes.columns"
   ]
  },
  {
   "cell_type": "markdown",
   "metadata": {},
   "source": [
    "Calculamos el volumen de viajes agregando sobre todos los viajes frecuentes"
   ]
  },
  {
   "cell_type": "code",
   "execution_count": 53,
   "metadata": {},
   "outputs": [],
   "source": [
    "# TODO cruzar con las personas y obtener solo el segmento que trabajen en salud y relacionados\n",
    "# El id de la actividad economica de salud es el 17"
   ]
  },
  {
   "cell_type": "code",
   "execution_count": 54,
   "metadata": {},
   "outputs": [],
   "source": [
    "viajes_vol = (viajes_frecuentes.\n",
    "     groupby(['utam_origen', 'utam_destino']).\n",
    "     agg({'f_exp': 'sum'}).\n",
    "     reset_index().\n",
    "     rename(columns={'f_exp': 'viajeros'})\n",
    ")"
   ]
  },
  {
   "cell_type": "code",
   "execution_count": 55,
   "metadata": {},
   "outputs": [],
   "source": [
    "viajes_vol.to_parquet('../data/02_processed/viajes_vol.parquet')\n",
    "viajes_vol.to_csv('../data/02_processed/viajes_vol.csv')"
   ]
  },
  {
   "cell_type": "code",
   "execution_count": 56,
   "metadata": {},
   "outputs": [
    {
     "data": {
      "text/plain": [
       "(5934, 3)"
      ]
     },
     "execution_count": 56,
     "metadata": {},
     "output_type": "execute_result"
    }
   ],
   "source": [
    "viajes_vol.shape"
   ]
  },
  {
   "cell_type": "code",
   "execution_count": 57,
   "metadata": {},
   "outputs": [
    {
     "data": {
      "text/html": [
       "<div>\n",
       "<style scoped>\n",
       "    .dataframe tbody tr th:only-of-type {\n",
       "        vertical-align: middle;\n",
       "    }\n",
       "\n",
       "    .dataframe tbody tr th {\n",
       "        vertical-align: top;\n",
       "    }\n",
       "\n",
       "    .dataframe thead th {\n",
       "        text-align: right;\n",
       "    }\n",
       "</style>\n",
       "<table border=\"1\" class=\"dataframe\">\n",
       "  <thead>\n",
       "    <tr style=\"text-align: right;\">\n",
       "      <th></th>\n",
       "      <th>utam_origen</th>\n",
       "      <th>utam_destino</th>\n",
       "      <th>viajeros</th>\n",
       "    </tr>\n",
       "  </thead>\n",
       "  <tbody>\n",
       "    <tr>\n",
       "      <th>0</th>\n",
       "      <td>UPR1</td>\n",
       "      <td>UTAM20</td>\n",
       "      <td>23.784754</td>\n",
       "    </tr>\n",
       "    <tr>\n",
       "      <th>1</th>\n",
       "      <td>UPR1</td>\n",
       "      <td>UTAM27</td>\n",
       "      <td>120.316550</td>\n",
       "    </tr>\n",
       "    <tr>\n",
       "      <th>2</th>\n",
       "      <td>UPR1</td>\n",
       "      <td>UTAM33</td>\n",
       "      <td>113.451124</td>\n",
       "    </tr>\n",
       "    <tr>\n",
       "      <th>3</th>\n",
       "      <td>UPR1</td>\n",
       "      <td>UTAM38</td>\n",
       "      <td>19.843237</td>\n",
       "    </tr>\n",
       "    <tr>\n",
       "      <th>4</th>\n",
       "      <td>UPR1</td>\n",
       "      <td>UTAM575</td>\n",
       "      <td>285.950439</td>\n",
       "    </tr>\n",
       "  </tbody>\n",
       "</table>\n",
       "</div>"
      ],
      "text/plain": [
       "  utam_origen utam_destino    viajeros\n",
       "0        UPR1       UTAM20   23.784754\n",
       "1        UPR1       UTAM27  120.316550\n",
       "2        UPR1       UTAM33  113.451124\n",
       "3        UPR1       UTAM38   19.843237\n",
       "4        UPR1      UTAM575  285.950439"
      ]
     },
     "execution_count": 57,
     "metadata": {},
     "output_type": "execute_result"
    }
   ],
   "source": [
    "viajes_vol.head()"
   ]
  },
  {
   "cell_type": "code",
   "execution_count": null,
   "metadata": {},
   "outputs": [],
   "source": [
    "# datos procesados de centroides en notebook :UTAM"
   ]
  }
 ],
 "metadata": {
  "kernelspec": {
   "display_name": "Python 3",
   "language": "python",
   "name": "python3"
  },
  "language_info": {
   "codemirror_mode": {
    "name": "ipython",
    "version": 3
   },
   "file_extension": ".py",
   "mimetype": "text/x-python",
   "name": "python",
   "nbconvert_exporter": "python",
   "pygments_lexer": "ipython3",
   "version": "3.8.1"
  }
 },
 "nbformat": 4,
 "nbformat_minor": 4
}
