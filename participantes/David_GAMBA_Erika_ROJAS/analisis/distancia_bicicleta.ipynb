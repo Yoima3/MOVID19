{
 "cells": [
  {
   "cell_type": "markdown",
   "metadata": {},
   "source": [
    "# Distance analysis "
   ]
  },
  {
   "cell_type": "code",
   "execution_count": 35,
   "metadata": {},
   "outputs": [],
   "source": [
    "import pandas as pd\n",
    "import numpy as np\n",
    "import seaborn as sns"
   ]
  },
  {
   "cell_type": "markdown",
   "metadata": {},
   "source": [
    "Cual es una distancia aceptable para movilizarse en la ciudad?\n",
    "\n",
    "Podemos considerar los datos estadisticos de viajes"
   ]
  },
  {
   "cell_type": "code",
   "execution_count": 5,
   "metadata": {},
   "outputs": [],
   "source": [
    "duracion = pd.read_csv('../data/01_raw/movilidad/Aux_DuraciónEODH2019.csv', sep=';')"
   ]
  },
  {
   "cell_type": "code",
   "execution_count": 10,
   "metadata": {},
   "outputs": [
    {
     "data": {
      "text/html": [
       "<div>\n",
       "<style scoped>\n",
       "    .dataframe tbody tr th:only-of-type {\n",
       "        vertical-align: middle;\n",
       "    }\n",
       "\n",
       "    .dataframe tbody tr th {\n",
       "        vertical-align: top;\n",
       "    }\n",
       "\n",
       "    .dataframe thead th {\n",
       "        text-align: right;\n",
       "    }\n",
       "</style>\n",
       "<table border=\"1\" class=\"dataframe\">\n",
       "  <thead>\n",
       "    <tr style=\"text-align: right;\">\n",
       "      <th></th>\n",
       "      <th>f_exp</th>\n",
       "    </tr>\n",
       "    <tr>\n",
       "      <th>modo_principal</th>\n",
       "      <th></th>\n",
       "    </tr>\n",
       "  </thead>\n",
       "  <tbody>\n",
       "    <tr>\n",
       "      <th>A pie</th>\n",
       "      <td>6.941798e+06</td>\n",
       "    </tr>\n",
       "    <tr>\n",
       "      <th>Alimentador</th>\n",
       "      <td>2.743405e+05</td>\n",
       "    </tr>\n",
       "    <tr>\n",
       "      <th>Auto</th>\n",
       "      <td>2.291877e+06</td>\n",
       "    </tr>\n",
       "    <tr>\n",
       "      <th>Bicicleta</th>\n",
       "      <td>1.177868e+06</td>\n",
       "    </tr>\n",
       "    <tr>\n",
       "      <th>Bicitaxi</th>\n",
       "      <td>2.937985e+04</td>\n",
       "    </tr>\n",
       "    <tr>\n",
       "      <th>Cable</th>\n",
       "      <td>9.491226e+02</td>\n",
       "    </tr>\n",
       "    <tr>\n",
       "      <th>Intermunicipal</th>\n",
       "      <td>3.535298e+05</td>\n",
       "    </tr>\n",
       "    <tr>\n",
       "      <th>Moto</th>\n",
       "      <td>9.153139e+05</td>\n",
       "    </tr>\n",
       "    <tr>\n",
       "      <th>Otro</th>\n",
       "      <td>2.199062e+05</td>\n",
       "    </tr>\n",
       "    <tr>\n",
       "      <th>Patineta</th>\n",
       "      <td>1.350332e+04</td>\n",
       "    </tr>\n",
       "    <tr>\n",
       "      <th>SITP Provisional</th>\n",
       "      <td>9.523406e+05</td>\n",
       "    </tr>\n",
       "    <tr>\n",
       "      <th>SITP Zonal</th>\n",
       "      <td>1.511470e+06</td>\n",
       "    </tr>\n",
       "    <tr>\n",
       "      <th>TransMilenio</th>\n",
       "      <td>2.489738e+06</td>\n",
       "    </tr>\n",
       "    <tr>\n",
       "      <th>Transporte Escolar</th>\n",
       "      <td>4.899843e+05</td>\n",
       "    </tr>\n",
       "    <tr>\n",
       "      <th>Transporte informal</th>\n",
       "      <td>6.522948e+05</td>\n",
       "    </tr>\n",
       "    <tr>\n",
       "      <th>Transporte publico individual</th>\n",
       "      <td>6.819937e+05</td>\n",
       "    </tr>\n",
       "  </tbody>\n",
       "</table>\n",
       "</div>"
      ],
      "text/plain": [
       "                                      f_exp\n",
       "modo_principal                             \n",
       "A pie                          6.941798e+06\n",
       "Alimentador                    2.743405e+05\n",
       "Auto                           2.291877e+06\n",
       "Bicicleta                      1.177868e+06\n",
       "Bicitaxi                       2.937985e+04\n",
       "Cable                          9.491226e+02\n",
       "Intermunicipal                 3.535298e+05\n",
       "Moto                           9.153139e+05\n",
       "Otro                           2.199062e+05\n",
       "Patineta                       1.350332e+04\n",
       "SITP Provisional               9.523406e+05\n",
       "SITP Zonal                     1.511470e+06\n",
       "TransMilenio                   2.489738e+06\n",
       "Transporte Escolar             4.899843e+05\n",
       "Transporte informal            6.522948e+05\n",
       "Transporte publico individual  6.819937e+05"
      ]
     },
     "execution_count": 10,
     "metadata": {},
     "output_type": "execute_result"
    }
   ],
   "source": [
    "duracion.groupby('modo_principal').agg({'f_exp':'sum'})"
   ]
  },
  {
   "cell_type": "markdown",
   "metadata": {},
   "source": [
    "sacamos el promedio de tiempo de viaje en bicicleta"
   ]
  },
  {
   "cell_type": "code",
   "execution_count": 43,
   "metadata": {},
   "outputs": [
    {
     "data": {
      "text/html": [
       "<div>\n",
       "<style scoped>\n",
       "    .dataframe tbody tr th:only-of-type {\n",
       "        vertical-align: middle;\n",
       "    }\n",
       "\n",
       "    .dataframe tbody tr th {\n",
       "        vertical-align: top;\n",
       "    }\n",
       "\n",
       "    .dataframe thead th {\n",
       "        text-align: right;\n",
       "    }\n",
       "</style>\n",
       "<table border=\"1\" class=\"dataframe\">\n",
       "  <thead>\n",
       "    <tr style=\"text-align: right;\">\n",
       "      <th></th>\n",
       "      <th>id_hogar</th>\n",
       "      <th>id_persona</th>\n",
       "      <th>id_viaje</th>\n",
       "      <th>hora_inicio_viaje</th>\n",
       "      <th>p31_hora_llegada</th>\n",
       "      <th>f_exp</th>\n",
       "      <th>modo_principal</th>\n",
       "      <th>duracion</th>\n",
       "    </tr>\n",
       "  </thead>\n",
       "  <tbody>\n",
       "    <tr>\n",
       "      <th>16</th>\n",
       "      <td>33018</td>\n",
       "      <td>6</td>\n",
       "      <td>3</td>\n",
       "      <td>21:10</td>\n",
       "      <td>21:50</td>\n",
       "      <td>15.567379</td>\n",
       "      <td>Bicicleta</td>\n",
       "      <td>40</td>\n",
       "    </tr>\n",
       "    <tr>\n",
       "      <th>21</th>\n",
       "      <td>12861</td>\n",
       "      <td>1</td>\n",
       "      <td>3</td>\n",
       "      <td>11:30</td>\n",
       "      <td>12:00</td>\n",
       "      <td>169.599720</td>\n",
       "      <td>Bicicleta</td>\n",
       "      <td>30</td>\n",
       "    </tr>\n",
       "    <tr>\n",
       "      <th>23</th>\n",
       "      <td>32344</td>\n",
       "      <td>2</td>\n",
       "      <td>3</td>\n",
       "      <td>11:55</td>\n",
       "      <td>12:10</td>\n",
       "      <td>137.201398</td>\n",
       "      <td>Bicicleta</td>\n",
       "      <td>15</td>\n",
       "    </tr>\n",
       "    <tr>\n",
       "      <th>33</th>\n",
       "      <td>30732</td>\n",
       "      <td>2</td>\n",
       "      <td>4</td>\n",
       "      <td>18:00</td>\n",
       "      <td>18:30</td>\n",
       "      <td>144.248045</td>\n",
       "      <td>Bicicleta</td>\n",
       "      <td>30</td>\n",
       "    </tr>\n",
       "    <tr>\n",
       "      <th>43</th>\n",
       "      <td>5636</td>\n",
       "      <td>4</td>\n",
       "      <td>2</td>\n",
       "      <td>11:14</td>\n",
       "      <td>11:20</td>\n",
       "      <td>184.877469</td>\n",
       "      <td>Bicicleta</td>\n",
       "      <td>6</td>\n",
       "    </tr>\n",
       "  </tbody>\n",
       "</table>\n",
       "</div>"
      ],
      "text/plain": [
       "   id_hogar  id_persona  id_viaje hora_inicio_viaje p31_hora_llegada  \\\n",
       "16    33018           6         3             21:10            21:50   \n",
       "21    12861           1         3             11:30            12:00   \n",
       "23    32344           2         3             11:55            12:10   \n",
       "33    30732           2         4             18:00            18:30   \n",
       "43     5636           4         2             11:14            11:20   \n",
       "\n",
       "         f_exp modo_principal  duracion  \n",
       "16   15.567379      Bicicleta        40  \n",
       "21  169.599720      Bicicleta        30  \n",
       "23  137.201398      Bicicleta        15  \n",
       "33  144.248045      Bicicleta        30  \n",
       "43  184.877469      Bicicleta         6  "
      ]
     },
     "execution_count": 43,
     "metadata": {},
     "output_type": "execute_result"
    }
   ],
   "source": [
    "duracion_bicicleta = (duracion.\n",
    "                      loc[lambda x:x.modo_principal=='Bicicleta'])\n",
    "duracion_bicicleta.head()"
   ]
  },
  {
   "cell_type": "code",
   "execution_count": 44,
   "metadata": {},
   "outputs": [
    {
     "data": {
      "text/plain": [
       "<matplotlib.axes._subplots.AxesSubplot at 0x23a3f26bd90>"
      ]
     },
     "execution_count": 44,
     "metadata": {},
     "output_type": "execute_result"
    },
    {
     "data": {
      "image/png": "[encoded data removed]",
      "text/plain": [
       "<Figure size 432x288 with 1 Axes>"
      ]
     },
     "metadata": {
      "needs_background": "light"
     },
     "output_type": "display_data"
    }
   ],
   "source": [
    "sns.distplot(duracion_bicicleta.duracion)"
   ]
  },
  {
   "cell_type": "markdown",
   "metadata": {},
   "source": [
    "Parece que hay otliers fuertes, vamos a quedarnos con solo el 95% de los datos"
   ]
  },
  {
   "cell_type": "code",
   "execution_count": 45,
   "metadata": {},
   "outputs": [
    {
     "data": {
      "text/plain": [
       "90.0"
      ]
     },
     "execution_count": 45,
     "metadata": {},
     "output_type": "execute_result"
    }
   ],
   "source": [
    "q_95 = duracion_bicicleta.duracion.quantile(q=0.95)\n",
    "q_95"
   ]
  },
  {
   "cell_type": "code",
   "execution_count": 46,
   "metadata": {},
   "outputs": [],
   "source": [
    "duracion_bicicleta = duracion_bicicleta.loc[lambda x: x.duracion < q_95]"
   ]
  },
  {
   "cell_type": "code",
   "execution_count": 47,
   "metadata": {},
   "outputs": [
    {
     "data": {
      "text/html": [
       "<div>\n",
       "<style scoped>\n",
       "    .dataframe tbody tr th:only-of-type {\n",
       "        vertical-align: middle;\n",
       "    }\n",
       "\n",
       "    .dataframe tbody tr th {\n",
       "        vertical-align: top;\n",
       "    }\n",
       "\n",
       "    .dataframe thead th {\n",
       "        text-align: right;\n",
       "    }\n",
       "</style>\n",
       "<table border=\"1\" class=\"dataframe\">\n",
       "  <thead>\n",
       "    <tr style=\"text-align: right;\">\n",
       "      <th></th>\n",
       "      <th>duracion</th>\n",
       "    </tr>\n",
       "  </thead>\n",
       "  <tbody>\n",
       "    <tr>\n",
       "      <th>mean</th>\n",
       "      <td>26.08018</td>\n",
       "    </tr>\n",
       "    <tr>\n",
       "      <th>median</th>\n",
       "      <td>20.00000</td>\n",
       "    </tr>\n",
       "  </tbody>\n",
       "</table>\n",
       "</div>"
      ],
      "text/plain": [
       "        duracion\n",
       "mean    26.08018\n",
       "median  20.00000"
      ]
     },
     "execution_count": 47,
     "metadata": {},
     "output_type": "execute_result"
    }
   ],
   "source": [
    "duracion_bicicleta.agg({'duracion': ['mean', 'median']})"
   ]
  },
  {
   "cell_type": "code",
   "execution_count": 48,
   "metadata": {},
   "outputs": [
    {
     "data": {
      "text/plain": [
       "0.0     0.0\n",
       "0.1     7.0\n",
       "0.2    10.0\n",
       "0.3    15.0\n",
       "0.4    15.0\n",
       "0.5    20.0\n",
       "0.6    30.0\n",
       "0.7    30.0\n",
       "0.8    40.0\n",
       "0.9    60.0\n",
       "1.0    87.0\n",
       "Name: duracion, dtype: float64"
      ]
     },
     "execution_count": 48,
     "metadata": {},
     "output_type": "execute_result"
    }
   ],
   "source": [
    "# quantiles\n",
    "duracion_bicicleta.duracion.quantile(q=np.linspace(0,1,11))"
   ]
  },
  {
   "cell_type": "markdown",
   "metadata": {},
   "source": [
    "dejar una duracion promedio de 26 minutos parece sensato. No obstante para entender el maximo de km que podrian hacerse en bicicletas, usaremos el valor __90 min (1.5h)__ del cuantil de la distribucion original, que ademas es bastante cercano al valor maximo de esta distribucion"
   ]
  },
  {
   "cell_type": "markdown",
   "metadata": {},
   "source": [
    "Suponiendo que una bicicleta se mueve a 5 km/h incluyendo trafico, etc, esto significa que en promedio una persona puede moverse: "
   ]
  },
  {
   "cell_type": "code",
   "execution_count": 52,
   "metadata": {},
   "outputs": [
    {
     "data": {
      "text/plain": [
       "7.5"
      ]
     },
     "execution_count": 52,
     "metadata": {},
     "output_type": "execute_result"
    }
   ],
   "source": [
    "velocidad = 5\n",
    "tiempo_horas = 1.5\n",
    "distancia_max = velocidad*tiempo_horas\n",
    "\n",
    "distancia_max"
   ]
  },
  {
   "cell_type": "markdown",
   "metadata": {},
   "source": [
    "7.5 km fuera del radio del hospital. Este seria el radio max que la iniciativa de bicicletas podria cubrir"
   ]
  }
 ],
 "metadata": {
  "kernelspec": {
   "display_name": "Python 3",
   "language": "python",
   "name": "python3"
  },
  "language_info": {
   "codemirror_mode": {
    "name": "ipython",
    "version": 3
   },
   "file_extension": ".py",
   "mimetype": "text/x-python",
   "name": "python",
   "nbconvert_exporter": "python",
   "pygments_lexer": "ipython3",
   "version": "3.8.1"
  }
 },
 "nbformat": 4,
 "nbformat_minor": 4
}
