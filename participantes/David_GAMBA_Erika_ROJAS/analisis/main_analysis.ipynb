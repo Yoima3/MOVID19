{
 "cells": [
  {
   "cell_type": "markdown",
   "metadata": {},
   "source": [
    "# Main data analysis"
   ]
  },
  {
   "cell_type": "code",
   "execution_count": 1,
   "metadata": {},
   "outputs": [],
   "source": [
    "import pandas as pd\n",
    "import numpy as np\n",
    "import seaborn as sns\n",
    "from shapely.geometry import Point\n",
    "import geopandas as geop"
   ]
  },
  {
   "cell_type": "code",
   "execution_count": 2,
   "metadata": {},
   "outputs": [],
   "source": [
    "import matplotlib.pyplot as plt\n",
    "plt.rcParams['figure.figsize'] = [10, 5]\n",
    "plt.rcParams['figure.dpi'] = 120"
   ]
  },
  {
   "cell_type": "markdown",
   "metadata": {},
   "source": [
    "Toca:\n",
    "1. Ver que tanta gente hay en los hospitales importantes\n",
    "2. Ver que tan lejos estan de las estaciones de trasmi\n",
    "3. Con los datos de movilidad de bici, determinar una distancia maxima a la que la gente podria moverse\n",
    "\n",
    "Luego dos partes:\n",
    "1. Que porcentaje de la gente que esta alrededor del hospital puede lograr movilizarse solo en bici. Calcular cuantas para poner bicis en el hospital, o darle bicis a esas personas.\n",
    "2. Que porcentage le toca en trasmi. Aca es mas dificil porque falta la parte de saber de donde van a venir para organizar las rutas\n",
    "\n",
    "A partir de aca dependiendo de cual es la mayoria impactada entre bicicleta/TM, podemos evaluar estrategias para cada una. Por ejemplo en bicicletas priorizar y en tm optimizar rutas"
   ]
  },
  {
   "cell_type": "code",
   "execution_count": 3,
   "metadata": {},
   "outputs": [],
   "source": [
    "# read data\n",
    "# ips_geo (viene de `data_processing.ipynb`)\n",
    "ips_geo_important =pd.read_parquet('../data/02_processed/ips_geo_important.parquet')\n",
    "# capacities_per_nit (viene de `people.ipynb`)\n",
    "# capacities_per_nit = pd.read_parquet('../data/02_processed/capacities_per_nit.parquet')\n",
    "# capacities_per_name (viene de `people.ipynb`)\n",
    "capacities_per_name = pd.read_parquet('../data/02_processed/capacities_per_name.parquet')\n",
    "# estaciones (`data_processing.ipynb`)\n",
    "estaciones= pd.read_parquet('../data/02_processed/estaciones.parquet')"
   ]
  },
  {
   "cell_type": "code",
   "execution_count": 4,
   "metadata": {},
   "outputs": [
    {
     "data": {
      "text/html": [
       "<div>\n",
       "<style scoped>\n",
       "    .dataframe tbody tr th:only-of-type {\n",
       "        vertical-align: middle;\n",
       "    }\n",
       "\n",
       "    .dataframe tbody tr th {\n",
       "        vertical-align: top;\n",
       "    }\n",
       "\n",
       "    .dataframe thead th {\n",
       "        text-align: right;\n",
       "    }\n",
       "</style>\n",
       "<table border=\"1\" class=\"dataframe\">\n",
       "  <thead>\n",
       "    <tr style=\"text-align: right;\">\n",
       "      <th></th>\n",
       "      <th>nit_ips</th>\n",
       "      <th>nombre_ips</th>\n",
       "      <th>capacidad</th>\n",
       "    </tr>\n",
       "  </thead>\n",
       "  <tbody>\n",
       "    <tr>\n",
       "      <th>100</th>\n",
       "      <td>900210981</td>\n",
       "      <td>HOSPITAL UNIVERSITARIO MAYOR-MEDERI</td>\n",
       "      <td>585.0</td>\n",
       "    </tr>\n",
       "    <tr>\n",
       "      <th>71</th>\n",
       "      <td>860007373</td>\n",
       "      <td>FUNDACION HOSPITAL SAN CARLOS</td>\n",
       "      <td>378.0</td>\n",
       "    </tr>\n",
       "    <tr>\n",
       "      <th>52</th>\n",
       "      <td>830040256</td>\n",
       "      <td>HOSPITAL MILITAR CENTRAL</td>\n",
       "      <td>345.0</td>\n",
       "    </tr>\n",
       "    <tr>\n",
       "      <th>81</th>\n",
       "      <td>860037950</td>\n",
       "      <td>FUNDACION SANTA FE DE BOGOTA</td>\n",
       "      <td>305.0</td>\n",
       "    </tr>\n",
       "    <tr>\n",
       "      <th>80</th>\n",
       "      <td>860035992</td>\n",
       "      <td>FUNDACION CARDIO INFANTIL INSTITUTO DE CARDIOL...</td>\n",
       "      <td>285.0</td>\n",
       "    </tr>\n",
       "    <tr>\n",
       "      <th>...</th>\n",
       "      <td>...</td>\n",
       "      <td>...</td>\n",
       "      <td>...</td>\n",
       "    </tr>\n",
       "    <tr>\n",
       "      <th>62</th>\n",
       "      <td>860005114</td>\n",
       "      <td>LINDE COLOMBIA S.A. - AGENCIA BUCARAMANGA</td>\n",
       "      <td>1.0</td>\n",
       "    </tr>\n",
       "    <tr>\n",
       "      <th>60</th>\n",
       "      <td>860005114</td>\n",
       "      <td>LINDE COLOMBIA AGENCIA REMEO CENTER BOGOTA</td>\n",
       "      <td>1.0</td>\n",
       "    </tr>\n",
       "    <tr>\n",
       "      <th>63</th>\n",
       "      <td>860005114</td>\n",
       "      <td>LINDE COLOMBIA S.A. - AGENCIA CARTAGENA</td>\n",
       "      <td>1.0</td>\n",
       "    </tr>\n",
       "    <tr>\n",
       "      <th>6</th>\n",
       "      <td>800149169</td>\n",
       "      <td>IPS CLINICA JOSE A RIVAS S.A. OTORRINOLARINGOL...</td>\n",
       "      <td>1.0</td>\n",
       "    </tr>\n",
       "    <tr>\n",
       "      <th>61</th>\n",
       "      <td>860005114</td>\n",
       "      <td>LINDE COLOMBIA S.A.</td>\n",
       "      <td>1.0</td>\n",
       "    </tr>\n",
       "  </tbody>\n",
       "</table>\n",
       "<p>152 rows × 3 columns</p>\n",
       "</div>"
      ],
      "text/plain": [
       "       nit_ips                                         nombre_ips  capacidad\n",
       "100  900210981                HOSPITAL UNIVERSITARIO MAYOR-MEDERI      585.0\n",
       "71   860007373                      FUNDACION HOSPITAL SAN CARLOS      378.0\n",
       "52   830040256                           HOSPITAL MILITAR CENTRAL      345.0\n",
       "81   860037950                       FUNDACION SANTA FE DE BOGOTA      305.0\n",
       "80   860035992  FUNDACION CARDIO INFANTIL INSTITUTO DE CARDIOL...      285.0\n",
       "..         ...                                                ...        ...\n",
       "62   860005114          LINDE COLOMBIA S.A. - AGENCIA BUCARAMANGA        1.0\n",
       "60   860005114         LINDE COLOMBIA AGENCIA REMEO CENTER BOGOTA        1.0\n",
       "63   860005114            LINDE COLOMBIA S.A. - AGENCIA CARTAGENA        1.0\n",
       "6    800149169  IPS CLINICA JOSE A RIVAS S.A. OTORRINOLARINGOL...        1.0\n",
       "61   860005114                                LINDE COLOMBIA S.A.        1.0\n",
       "\n",
       "[152 rows x 3 columns]"
      ]
     },
     "execution_count": 4,
     "metadata": {},
     "output_type": "execute_result"
    }
   ],
   "source": [
    "capacities_per_name.sort_values('capacidad', ascending=False)"
   ]
  },
  {
   "cell_type": "code",
   "execution_count": 5,
   "metadata": {},
   "outputs": [],
   "source": [
    "# add capacities to ips\n",
    "ips_geo_cap = pd.merge(\n",
    "    ips_geo_important,\n",
    "    capacities_per_name.drop('nit_ips', axis=1),\n",
    "    on='nombre_ips',\n",
    "    how='inner'\n",
    ")"
   ]
  },
  {
   "cell_type": "code",
   "execution_count": 6,
   "metadata": {},
   "outputs": [
    {
     "data": {
      "text/plain": [
       "(112, 9)"
      ]
     },
     "execution_count": 6,
     "metadata": {},
     "output_type": "execute_result"
    }
   ],
   "source": [
    "ips_geo_cap.shape"
   ]
  },
  {
   "cell_type": "code",
   "execution_count": 7,
   "metadata": {},
   "outputs": [],
   "source": [
    "ips_geo_cap.to_csv('../data/02_processed/ips_geo_cap.csv')"
   ]
  },
  {
   "cell_type": "code",
   "execution_count": 8,
   "metadata": {},
   "outputs": [
    {
     "data": {
      "text/plain": [
       "<matplotlib.axes._subplots.AxesSubplot at 0x21961915fd0>"
      ]
     },
     "execution_count": 8,
     "metadata": {},
     "output_type": "execute_result"
    },
    {
     "data": {
      "image/png": "[encoded data removed]",
      "text/plain": [
       "<Figure size 1200x600 with 1 Axes>"
      ]
     },
     "metadata": {
      "needs_background": "light"
     },
     "output_type": "display_data"
    }
   ],
   "source": [
    "sns.distplot(ips_geo_cap.capacidad, bins=20)"
   ]
  },
  {
   "cell_type": "markdown",
   "metadata": {},
   "source": [
    "La mayoria de capacidad des son entre 100 y 200. No obstante aca los outlier son importantes, pues seran los hospitales mas concurridos y con mas personal. Podemos sin embargo filtrar el 5% mas pequenho"
   ]
  },
  {
   "cell_type": "code",
   "execution_count": 9,
   "metadata": {},
   "outputs": [
    {
     "data": {
      "text/html": [
       "<div>\n",
       "<style scoped>\n",
       "    .dataframe tbody tr th:only-of-type {\n",
       "        vertical-align: middle;\n",
       "    }\n",
       "\n",
       "    .dataframe tbody tr th {\n",
       "        vertical-align: top;\n",
       "    }\n",
       "\n",
       "    .dataframe thead th {\n",
       "        text-align: right;\n",
       "    }\n",
       "</style>\n",
       "<table border=\"1\" class=\"dataframe\">\n",
       "  <thead>\n",
       "    <tr style=\"text-align: right;\">\n",
       "      <th></th>\n",
       "      <th>direccion</th>\n",
       "      <th>clase_de_prestador</th>\n",
       "      <th>nit_ips</th>\n",
       "      <th>codigo_de_habilitacion</th>\n",
       "      <th>id_ips</th>\n",
       "      <th>nombre_ips</th>\n",
       "      <th>longitud_ips</th>\n",
       "      <th>latitud_ips</th>\n",
       "      <th>capacidad</th>\n",
       "    </tr>\n",
       "  </thead>\n",
       "  <tbody>\n",
       "    <tr>\n",
       "      <th>74</th>\n",
       "      <td>AK 19 No. 100-88</td>\n",
       "      <td>Instituciones - IPS</td>\n",
       "      <td>800149169</td>\n",
       "      <td>110010857501</td>\n",
       "      <td>581</td>\n",
       "      <td>IPS CLINICA JOSE A RIVAS S.A. OTORRINOLARINGOL...</td>\n",
       "      <td>-74.051524</td>\n",
       "      <td>4.687232</td>\n",
       "      <td>1.0</td>\n",
       "    </tr>\n",
       "    <tr>\n",
       "      <th>85</th>\n",
       "      <td>AK 14 No. 40A- 04</td>\n",
       "      <td>Instituciones - IPS</td>\n",
       "      <td>860005114</td>\n",
       "      <td>110011509902</td>\n",
       "      <td>1401</td>\n",
       "      <td>LINDE COLOMBIA AGENCIA REMEO CENTER BOGOTA</td>\n",
       "      <td>-74.068238</td>\n",
       "      <td>4.627990</td>\n",
       "      <td>1.0</td>\n",
       "    </tr>\n",
       "    <tr>\n",
       "      <th>31</th>\n",
       "      <td>AK 19 N 100-28</td>\n",
       "      <td>Instituciones - IPS</td>\n",
       "      <td>800149169</td>\n",
       "      <td>110010857502</td>\n",
       "      <td>18</td>\n",
       "      <td>CLINICA JOSE A RIVAS VIP</td>\n",
       "      <td>-74.051649</td>\n",
       "      <td>4.686519</td>\n",
       "      <td>2.0</td>\n",
       "    </tr>\n",
       "    <tr>\n",
       "      <th>90</th>\n",
       "      <td>Cra 71 127-11</td>\n",
       "      <td>Instituciones - IPS</td>\n",
       "      <td>900169766</td>\n",
       "      <td>110011766701</td>\n",
       "      <td>2274</td>\n",
       "      <td>SANESA UNIDAD QUIRURGICA Y ESTETICA</td>\n",
       "      <td>-74.076529</td>\n",
       "      <td>4.710633</td>\n",
       "      <td>2.0</td>\n",
       "    </tr>\n",
       "    <tr>\n",
       "      <th>49</th>\n",
       "      <td>CL 106 # 17 45</td>\n",
       "      <td>Instituciones - IPS</td>\n",
       "      <td>800006602</td>\n",
       "      <td>110010872001</td>\n",
       "      <td>1755</td>\n",
       "      <td>CLINICA AVELLANEDA HERNANDEZ S.A.S.</td>\n",
       "      <td>-74.048682</td>\n",
       "      <td>4.691447</td>\n",
       "      <td>3.0</td>\n",
       "    </tr>\n",
       "    <tr>\n",
       "      <th>44</th>\n",
       "      <td>CARRERA 45 A N° 95 - 57</td>\n",
       "      <td>Instituciones - IPS</td>\n",
       "      <td>900210768</td>\n",
       "      <td>110011934101</td>\n",
       "      <td>1267</td>\n",
       "      <td>CIRUGÍA PLÁSTICA LA CASTELLANA S.A.S.</td>\n",
       "      <td>-74.058754</td>\n",
       "      <td>4.684308</td>\n",
       "      <td>3.0</td>\n",
       "    </tr>\n",
       "    <tr>\n",
       "      <th>47</th>\n",
       "      <td>Calle 20 No. 98-62</td>\n",
       "      <td>Instituciones - IPS</td>\n",
       "      <td>900385628</td>\n",
       "      <td>110012156401</td>\n",
       "      <td>1577</td>\n",
       "      <td>Medicentro Familiar IPS SAS</td>\n",
       "      <td>-74.142125</td>\n",
       "      <td>4.674393</td>\n",
       "      <td>4.0</td>\n",
       "    </tr>\n",
       "    <tr>\n",
       "      <th>28</th>\n",
       "      <td>TRANSVERSAL 116C Nº133-18</td>\n",
       "      <td>Instituciones - IPS</td>\n",
       "      <td>900971006</td>\n",
       "      <td>110013029116</td>\n",
       "      <td>2870</td>\n",
       "      <td>UNIDAD DE SERVICIOS DE SALUD GAITANA I</td>\n",
       "      <td>-74.110283</td>\n",
       "      <td>4.740902</td>\n",
       "      <td>4.0</td>\n",
       "    </tr>\n",
       "    <tr>\n",
       "      <th>65</th>\n",
       "      <td>KR 9 B No. 75 - 49 SUR</td>\n",
       "      <td>Instituciones - IPS</td>\n",
       "      <td>900958564</td>\n",
       "      <td>110013029431</td>\n",
       "      <td>2910</td>\n",
       "      <td>UNIDAD DE SERVICIOS DE SALUD SANTA LIBRADA I</td>\n",
       "      <td>-74.113482</td>\n",
       "      <td>4.514656</td>\n",
       "      <td>5.0</td>\n",
       "    </tr>\n",
       "    <tr>\n",
       "      <th>104</th>\n",
       "      <td>CALLE 64 C # 121 - 76</td>\n",
       "      <td>Instituciones - IPS</td>\n",
       "      <td>900971006</td>\n",
       "      <td>110013029104</td>\n",
       "      <td>2861</td>\n",
       "      <td>UNIDAD DE SERVICIOS DE SALUD EMAUS</td>\n",
       "      <td>-74.140436</td>\n",
       "      <td>4.715300</td>\n",
       "      <td>5.0</td>\n",
       "    </tr>\n",
       "  </tbody>\n",
       "</table>\n",
       "</div>"
      ],
      "text/plain": [
       "                     direccion   clase_de_prestador    nit_ips  \\\n",
       "74            AK 19 No. 100-88  Instituciones - IPS  800149169   \n",
       "85           AK 14 No. 40A- 04  Instituciones - IPS  860005114   \n",
       "31              AK 19 N 100-28  Instituciones - IPS  800149169   \n",
       "90               Cra 71 127-11  Instituciones - IPS  900169766   \n",
       "49              CL 106 # 17 45  Instituciones - IPS  800006602   \n",
       "44     CARRERA 45 A N° 95 - 57  Instituciones - IPS  900210768   \n",
       "47          Calle 20 No. 98-62  Instituciones - IPS  900385628   \n",
       "28   TRANSVERSAL 116C Nº133-18  Instituciones - IPS  900971006   \n",
       "65      KR 9 B No. 75 - 49 SUR  Instituciones - IPS  900958564   \n",
       "104      CALLE 64 C # 121 - 76  Instituciones - IPS  900971006   \n",
       "\n",
       "     codigo_de_habilitacion  id_ips  \\\n",
       "74             110010857501     581   \n",
       "85             110011509902    1401   \n",
       "31             110010857502      18   \n",
       "90             110011766701    2274   \n",
       "49             110010872001    1755   \n",
       "44             110011934101    1267   \n",
       "47             110012156401    1577   \n",
       "28             110013029116    2870   \n",
       "65             110013029431    2910   \n",
       "104            110013029104    2861   \n",
       "\n",
       "                                            nombre_ips  longitud_ips  \\\n",
       "74   IPS CLINICA JOSE A RIVAS S.A. OTORRINOLARINGOL...    -74.051524   \n",
       "85          LINDE COLOMBIA AGENCIA REMEO CENTER BOGOTA    -74.068238   \n",
       "31                            CLINICA JOSE A RIVAS VIP    -74.051649   \n",
       "90                 SANESA UNIDAD QUIRURGICA Y ESTETICA    -74.076529   \n",
       "49                 CLINICA AVELLANEDA HERNANDEZ S.A.S.    -74.048682   \n",
       "44               CIRUGÍA PLÁSTICA LA CASTELLANA S.A.S.    -74.058754   \n",
       "47                         Medicentro Familiar IPS SAS    -74.142125   \n",
       "28              UNIDAD DE SERVICIOS DE SALUD GAITANA I    -74.110283   \n",
       "65        UNIDAD DE SERVICIOS DE SALUD SANTA LIBRADA I    -74.113482   \n",
       "104                 UNIDAD DE SERVICIOS DE SALUD EMAUS    -74.140436   \n",
       "\n",
       "     latitud_ips  capacidad  \n",
       "74      4.687232        1.0  \n",
       "85      4.627990        1.0  \n",
       "31      4.686519        2.0  \n",
       "90      4.710633        2.0  \n",
       "49      4.691447        3.0  \n",
       "44      4.684308        3.0  \n",
       "47      4.674393        4.0  \n",
       "28      4.740902        4.0  \n",
       "65      4.514656        5.0  \n",
       "104     4.715300        5.0  "
      ]
     },
     "execution_count": 9,
     "metadata": {},
     "output_type": "execute_result"
    }
   ],
   "source": [
    "ips_geo_cap.sort_values('capacidad').head(10)"
   ]
  },
  {
   "cell_type": "code",
   "execution_count": 10,
   "metadata": {},
   "outputs": [
    {
     "data": {
      "text/plain": [
       "0.05     3.55\n",
       "0.10     6.00\n",
       "0.15     8.00\n",
       "0.20    10.00\n",
       "Name: capacidad, dtype: float64"
      ]
     },
     "execution_count": 10,
     "metadata": {},
     "output_type": "execute_result"
    }
   ],
   "source": [
    "ips_geo_cap.capacidad.quantile(q=[0.05, 0.1, 0.15, 0.2])"
   ]
  },
  {
   "cell_type": "markdown",
   "metadata": {},
   "source": [
    "a partir del 20% comenzamos a tener IPS de capacidad razonable"
   ]
  },
  {
   "cell_type": "code",
   "execution_count": 11,
   "metadata": {},
   "outputs": [],
   "source": [
    "ips_geo_cap = ips_geo_cap.loc[lambda x: x.capacidad>10]"
   ]
  },
  {
   "cell_type": "markdown",
   "metadata": {},
   "source": [
    "## Asignacion de personal a cada ips"
   ]
  },
  {
   "cell_type": "markdown",
   "metadata": {},
   "source": [
    "Analisis de las categorias explicado en el anexo de analisis. Aca implementamos la tabla resultado"
   ]
  },
  {
   "cell_type": "code",
   "execution_count": 12,
   "metadata": {},
   "outputs": [],
   "source": [
    "cuts = np.concatenate((np.arange(0, 500, 50).astype(float), [float('Inf')]))\n",
    "empleados = np.arange(100, 901, 100)\n",
    "capacidad_bin = pd.cut(ips_geo_cap.capacidad, bins=cuts, retbins=False)\n",
    "bins = capacidad_bin.cat.categories\n",
    "\n",
    "map_dict = dict(zip(bins, empleados))\n",
    "\n",
    "#assign the mapping\n",
    "ips_geo_cap['empleados'] = capacidad_bin.map(map_dict)"
   ]
  },
  {
   "cell_type": "code",
   "execution_count": 13,
   "metadata": {},
   "outputs": [],
   "source": [
    "ips_empleados = ips_geo_cap[['id_ips', 'capacidad', 'empleados']]"
   ]
  },
  {
   "cell_type": "markdown",
   "metadata": {},
   "source": [
    "load here file with cap and estimated workers (this step was done manually, details in documentation)"
   ]
  },
  {
   "cell_type": "code",
   "execution_count": 14,
   "metadata": {},
   "outputs": [],
   "source": [
    "# no es necesario ya, al tener el mapeo en codigo\n",
    "#ips_empleados = pd.read_csv('../data/02_processed/ips_geo_capacidad_empleados.csv', sep=';')\n",
    "#ips_empleados.columns = ['nombre_ips', 'capacidad', 'empleados']\n",
    "\n",
    "#ips_empleados=ips_empleados.loc[lambda x: x.capacidad>40]"
   ]
  },
  {
   "cell_type": "code",
   "execution_count": 16,
   "metadata": {},
   "outputs": [
    {
     "data": {
      "text/plain": [
       "21600.0"
      ]
     },
     "execution_count": 16,
     "metadata": {},
     "output_type": "execute_result"
    }
   ],
   "source": [
    "ips_empleados.empleados.sum()"
   ]
  },
  {
   "cell_type": "markdown",
   "metadata": {},
   "source": [
    "## De donde viene la gente a las ips? (region de la ips)"
   ]
  },
  {
   "cell_type": "code",
   "execution_count": 17,
   "metadata": {},
   "outputs": [],
   "source": [
    "# load utam data\n",
    "utam = pd.read_pickle('../data/02_processed/utam.pkl')\n",
    "utam_basic = utam[['utam', 'hogares', 'geometry', 'centroide']]"
   ]
  },
  {
   "cell_type": "code",
   "execution_count": 18,
   "metadata": {},
   "outputs": [
    {
     "data": {
      "text/plain": [
       "Index(['utam_origen', 'utam_destino', 'viajeros'], dtype='object')"
      ]
     },
     "execution_count": 18,
     "metadata": {},
     "output_type": "execute_result"
    }
   ],
   "source": [
    "# load viajes_vol\n",
    "viajes_vol = pd.read_parquet('../data/02_processed/viajes_vol.parquet')\n",
    "viajes_vol.columns"
   ]
  },
  {
   "cell_type": "code",
   "execution_count": 19,
   "metadata": {},
   "outputs": [
    {
     "name": "stderr",
     "output_type": "stream",
     "text": [
      "C:\\Users\\User\\Anaconda3\\envs\\movilidad\\lib\\site-packages\\geopandas\\tools\\sjoin.py:58: UserWarning: CRS of frames being joined does not match!(None != {'init': 'epsg:4686'})\n",
      "  warn(\n"
     ]
    },
    {
     "data": {
      "text/plain": [
       "Index(['direccion', 'clase_de_prestador', 'nit_ips', 'codigo_de_habilitacion',\n",
       "       'id_ips', 'nombre_ips', 'longitud_ips', 'latitud_ips', 'capacidad',\n",
       "       'empleados', 'geometry', 'utam_ips', 'hogares_ips', 'centroide_ips'],\n",
       "      dtype='object')"
      ]
     },
     "execution_count": 19,
     "metadata": {},
     "output_type": "execute_result"
    }
   ],
   "source": [
    "ips_geo_utam = geop.sjoin(\n",
    "    geop.GeoDataFrame(ips_geo_cap,\n",
    "                      geometry=geop.points_from_xy(ips_geo_cap.longitud_ips, ips_geo_cap.latitud_ips)),\n",
    "    utam_basic,\n",
    "    how='inner',\n",
    "    op='intersects'\n",
    ").drop(columns='index_right', axis=1).rename(columns={'utam':'utam_ips','hogares':'hogares_ips', 'centroide':'centroide_ips'})\n",
    "\n",
    "ips_geo_utam.columns"
   ]
  },
  {
   "cell_type": "code",
   "execution_count": 20,
   "metadata": {},
   "outputs": [
    {
     "data": {
      "text/plain": [
       "(87, 14)"
      ]
     },
     "execution_count": 20,
     "metadata": {},
     "output_type": "execute_result"
    }
   ],
   "source": [
    "ips_geo_utam.shape"
   ]
  },
  {
   "cell_type": "markdown",
   "metadata": {},
   "source": [
    "Unimos la informacion de viajes"
   ]
  },
  {
   "cell_type": "code",
   "execution_count": 21,
   "metadata": {},
   "outputs": [],
   "source": [
    "ips_geo_utam = pd.merge(\n",
    "    ips_geo_utam,\n",
    "    viajes_vol,\n",
    "    left_on='utam_ips',\n",
    "    right_on='utam_destino',\n",
    "    how='left'\n",
    ").drop('utam_destino', axis=1)"
   ]
  },
  {
   "cell_type": "code",
   "execution_count": 22,
   "metadata": {},
   "outputs": [],
   "source": [
    "# merge utam destination information\n",
    "ips_geo_utam = pd.merge(ips_geo_utam, utam_basic[['utam', 'geometry']], left_on='utam_origen', right_on='utam', suffixes=('_ips', '_origen'))"
   ]
  },
  {
   "cell_type": "markdown",
   "metadata": {},
   "source": [
    "Calculo de distancia utam origen a IPS"
   ]
  },
  {
   "cell_type": "code",
   "execution_count": 23,
   "metadata": {},
   "outputs": [],
   "source": [
    "ips_geo_utam = ips_geo_utam.assign(distancia=lambda x: (1/1000)*geop.GeoSeries(x.geometry_ips,crs={'init':'epsg:4326'}).to_crs(epsg=3310).distance(geop.GeoSeries(x.geometry_origen,crs={'init':'epsg:4326'}).to_crs(epsg=3310)))"
   ]
  },
  {
   "cell_type": "code",
   "execution_count": 24,
   "metadata": {},
   "outputs": [
    {
     "data": {
      "text/html": [
       "<div>\n",
       "<style scoped>\n",
       "    .dataframe tbody tr th:only-of-type {\n",
       "        vertical-align: middle;\n",
       "    }\n",
       "\n",
       "    .dataframe tbody tr th {\n",
       "        vertical-align: top;\n",
       "    }\n",
       "\n",
       "    .dataframe thead th {\n",
       "        text-align: right;\n",
       "    }\n",
       "</style>\n",
       "<table border=\"1\" class=\"dataframe\">\n",
       "  <thead>\n",
       "    <tr style=\"text-align: right;\">\n",
       "      <th></th>\n",
       "      <th>direccion</th>\n",
       "      <th>clase_de_prestador</th>\n",
       "      <th>nit_ips</th>\n",
       "      <th>codigo_de_habilitacion</th>\n",
       "      <th>id_ips</th>\n",
       "      <th>nombre_ips</th>\n",
       "      <th>longitud_ips</th>\n",
       "      <th>latitud_ips</th>\n",
       "      <th>capacidad</th>\n",
       "      <th>empleados</th>\n",
       "      <th>geometry_ips</th>\n",
       "      <th>utam_ips</th>\n",
       "      <th>hogares_ips</th>\n",
       "      <th>centroide_ips</th>\n",
       "      <th>utam_origen</th>\n",
       "      <th>viajeros</th>\n",
       "      <th>utam</th>\n",
       "      <th>geometry_origen</th>\n",
       "      <th>distancia</th>\n",
       "    </tr>\n",
       "  </thead>\n",
       "  <tbody>\n",
       "    <tr>\n",
       "      <th>0</th>\n",
       "      <td>AC 33 # 14 37</td>\n",
       "      <td>Instituciones - IPS</td>\n",
       "      <td>830099212</td>\n",
       "      <td>110010905601</td>\n",
       "      <td>4</td>\n",
       "      <td>CENTRO DE INVESTIGACIONES ONCOLOGICAS CLINICA ...</td>\n",
       "      <td>-74.069838</td>\n",
       "      <td>4.621248</td>\n",
       "      <td>99.0</td>\n",
       "      <td>200.0</td>\n",
       "      <td>POINT (-74.06984 4.62125)</td>\n",
       "      <td>UTAM91</td>\n",
       "      <td>2421.0</td>\n",
       "      <td>POINT (-74.06594 4.61988)</td>\n",
       "      <td>UTAM10</td>\n",
       "      <td>217.663029</td>\n",
       "      <td>UTAM10</td>\n",
       "      <td>POLYGON ((-74.02110 4.75705, -74.02110 4.75704...</td>\n",
       "      <td>12.848687</td>\n",
       "    </tr>\n",
       "    <tr>\n",
       "      <th>1</th>\n",
       "      <td>CARRERA 5 NUMERO 33 A-45</td>\n",
       "      <td>Instituciones - IPS</td>\n",
       "      <td>900959051</td>\n",
       "      <td>110013028915</td>\n",
       "      <td>2845</td>\n",
       "      <td>UNIDAD DE SERVICIOS DE SALUD PERSEVERANCIA</td>\n",
       "      <td>-74.065509</td>\n",
       "      <td>4.619988</td>\n",
       "      <td>18.0</td>\n",
       "      <td>100.0</td>\n",
       "      <td>POINT (-74.06551 4.61999)</td>\n",
       "      <td>UTAM91</td>\n",
       "      <td>2421.0</td>\n",
       "      <td>POINT (-74.06594 4.61988)</td>\n",
       "      <td>UTAM10</td>\n",
       "      <td>217.663029</td>\n",
       "      <td>UTAM10</td>\n",
       "      <td>POLYGON ((-74.02110 4.75705, -74.02110 4.75704...</td>\n",
       "      <td>12.773993</td>\n",
       "    </tr>\n",
       "    <tr>\n",
       "      <th>2</th>\n",
       "      <td>CRA 8 # 17 45 SUR</td>\n",
       "      <td>Instituciones - IPS</td>\n",
       "      <td>860015888</td>\n",
       "      <td>110010566801</td>\n",
       "      <td>412</td>\n",
       "      <td>HOSPITAL UNIVERSITARIO CLINICA SAN RAFAEL</td>\n",
       "      <td>-74.091331</td>\n",
       "      <td>4.576651</td>\n",
       "      <td>226.0</td>\n",
       "      <td>500.0</td>\n",
       "      <td>POINT (-74.09133 4.57665)</td>\n",
       "      <td>UTAM33</td>\n",
       "      <td>12900.0</td>\n",
       "      <td>POINT (-74.08552 4.57808)</td>\n",
       "      <td>UTAM10</td>\n",
       "      <td>693.688272</td>\n",
       "      <td>UTAM10</td>\n",
       "      <td>POLYGON ((-74.02110 4.75705, -74.02110 4.75704...</td>\n",
       "      <td>17.927557</td>\n",
       "    </tr>\n",
       "    <tr>\n",
       "      <th>3</th>\n",
       "      <td>CARRERA 8#17-44 SUR</td>\n",
       "      <td>Instituciones - IPS</td>\n",
       "      <td>860015888</td>\n",
       "      <td>110010566809</td>\n",
       "      <td>2974</td>\n",
       "      <td>HOSPITAL UNIVERSITARIO CLINICA SAN RAFAEL</td>\n",
       "      <td>-74.090281</td>\n",
       "      <td>4.575977</td>\n",
       "      <td>226.0</td>\n",
       "      <td>500.0</td>\n",
       "      <td>POINT (-74.09028 4.57598)</td>\n",
       "      <td>UTAM33</td>\n",
       "      <td>12900.0</td>\n",
       "      <td>POINT (-74.08552 4.57808)</td>\n",
       "      <td>UTAM10</td>\n",
       "      <td>693.688272</td>\n",
       "      <td>UTAM10</td>\n",
       "      <td>POLYGON ((-74.02110 4.75705, -74.02110 4.75704...</td>\n",
       "      <td>17.933563</td>\n",
       "    </tr>\n",
       "    <tr>\n",
       "      <th>4</th>\n",
       "      <td>CRA 8 # 0 29 SUR</td>\n",
       "      <td>Instituciones - IPS</td>\n",
       "      <td>899999032</td>\n",
       "      <td>110010922401</td>\n",
       "      <td>676</td>\n",
       "      <td>EMPRESA SOCIAL DEL ESTADO HOSPITAL UNIVERSITAR...</td>\n",
       "      <td>-74.083710</td>\n",
       "      <td>4.587218</td>\n",
       "      <td>192.0</td>\n",
       "      <td>400.0</td>\n",
       "      <td>POINT (-74.08371 4.58722)</td>\n",
       "      <td>UTAM33</td>\n",
       "      <td>12900.0</td>\n",
       "      <td>POINT (-74.08552 4.57808)</td>\n",
       "      <td>UTAM10</td>\n",
       "      <td>693.688272</td>\n",
       "      <td>UTAM10</td>\n",
       "      <td>POLYGON ((-74.02110 4.75705, -74.02110 4.75704...</td>\n",
       "      <td>16.594636</td>\n",
       "    </tr>\n",
       "  </tbody>\n",
       "</table>\n",
       "</div>"
      ],
      "text/plain": [
       "                  direccion   clase_de_prestador    nit_ips  \\\n",
       "0             AC 33 # 14 37  Instituciones - IPS  830099212   \n",
       "1  CARRERA 5 NUMERO 33 A-45  Instituciones - IPS  900959051   \n",
       "2         CRA 8 # 17 45 SUR  Instituciones - IPS  860015888   \n",
       "3       CARRERA 8#17-44 SUR  Instituciones - IPS  860015888   \n",
       "4          CRA 8 # 0 29 SUR  Instituciones - IPS  899999032   \n",
       "\n",
       "   codigo_de_habilitacion  id_ips  \\\n",
       "0            110010905601       4   \n",
       "1            110013028915    2845   \n",
       "2            110010566801     412   \n",
       "3            110010566809    2974   \n",
       "4            110010922401     676   \n",
       "\n",
       "                                          nombre_ips  longitud_ips  \\\n",
       "0  CENTRO DE INVESTIGACIONES ONCOLOGICAS CLINICA ...    -74.069838   \n",
       "1         UNIDAD DE SERVICIOS DE SALUD PERSEVERANCIA    -74.065509   \n",
       "2          HOSPITAL UNIVERSITARIO CLINICA SAN RAFAEL    -74.091331   \n",
       "3          HOSPITAL UNIVERSITARIO CLINICA SAN RAFAEL    -74.090281   \n",
       "4  EMPRESA SOCIAL DEL ESTADO HOSPITAL UNIVERSITAR...    -74.083710   \n",
       "\n",
       "   latitud_ips  capacidad  empleados               geometry_ips utam_ips  \\\n",
       "0     4.621248       99.0      200.0  POINT (-74.06984 4.62125)   UTAM91   \n",
       "1     4.619988       18.0      100.0  POINT (-74.06551 4.61999)   UTAM91   \n",
       "2     4.576651      226.0      500.0  POINT (-74.09133 4.57665)   UTAM33   \n",
       "3     4.575977      226.0      500.0  POINT (-74.09028 4.57598)   UTAM33   \n",
       "4     4.587218      192.0      400.0  POINT (-74.08371 4.58722)   UTAM33   \n",
       "\n",
       "   hogares_ips              centroide_ips utam_origen    viajeros    utam  \\\n",
       "0       2421.0  POINT (-74.06594 4.61988)      UTAM10  217.663029  UTAM10   \n",
       "1       2421.0  POINT (-74.06594 4.61988)      UTAM10  217.663029  UTAM10   \n",
       "2      12900.0  POINT (-74.08552 4.57808)      UTAM10  693.688272  UTAM10   \n",
       "3      12900.0  POINT (-74.08552 4.57808)      UTAM10  693.688272  UTAM10   \n",
       "4      12900.0  POINT (-74.08552 4.57808)      UTAM10  693.688272  UTAM10   \n",
       "\n",
       "                                     geometry_origen  distancia  \n",
       "0  POLYGON ((-74.02110 4.75705, -74.02110 4.75704...  12.848687  \n",
       "1  POLYGON ((-74.02110 4.75705, -74.02110 4.75704...  12.773993  \n",
       "2  POLYGON ((-74.02110 4.75705, -74.02110 4.75704...  17.927557  \n",
       "3  POLYGON ((-74.02110 4.75705, -74.02110 4.75704...  17.933563  \n",
       "4  POLYGON ((-74.02110 4.75705, -74.02110 4.75704...  16.594636  "
      ]
     },
     "execution_count": 24,
     "metadata": {},
     "output_type": "execute_result"
    }
   ],
   "source": [
    "ips_geo_utam.head()"
   ]
  },
  {
   "cell_type": "code",
   "execution_count": 25,
   "metadata": {},
   "outputs": [
    {
     "data": {
      "text/plain": [
       "Index(['direccion', 'clase_de_prestador', 'nit_ips', 'codigo_de_habilitacion',\n",
       "       'id_ips', 'nombre_ips', 'longitud_ips', 'latitud_ips', 'capacidad',\n",
       "       'empleados', 'geometry_ips', 'utam_ips', 'hogares_ips', 'centroide_ips',\n",
       "       'utam_origen', 'viajeros', 'utam', 'geometry_origen', 'distancia'],\n",
       "      dtype='object')"
      ]
     },
     "execution_count": 25,
     "metadata": {},
     "output_type": "execute_result"
    }
   ],
   "source": [
    "ips_geo_utam.columns"
   ]
  },
  {
   "cell_type": "markdown",
   "metadata": {},
   "source": [
    "Con estos datos necesitamos saber por cada ips\n",
    "1. Que tan lejos estan los viajeros\n",
    "2. Que proporcion es bike_eligible: a mas de 1km (caminar es mas practico) ya menos de 7 km(mas que esto y la bicicleta tiene commute times muy largos)"
   ]
  },
  {
   "cell_type": "code",
   "execution_count": 26,
   "metadata": {},
   "outputs": [],
   "source": [
    "bike_eligibility = (ips_geo_utam.\n",
    "     assign(likely_mode=lambda x: np.select([x.distancia < 1,  x.distancia.between(1,7.5), x.distancia > 7.5],\n",
    "                                           ['pie', 'bicicleta', 'publico'])).\n",
    "     groupby(['id_ips','likely_mode']).agg({'viajeros': 'sum'}).\n",
    "     assign(proporcion=lambda x: x.groupby(level=0).apply(lambda x: 100 * x / float(x.sum()))).\n",
    "     reset_index()\n",
    ")"
   ]
  },
  {
   "cell_type": "code",
   "execution_count": 27,
   "metadata": {},
   "outputs": [
    {
     "data": {
      "text/html": [
       "<div>\n",
       "<style scoped>\n",
       "    .dataframe tbody tr th:only-of-type {\n",
       "        vertical-align: middle;\n",
       "    }\n",
       "\n",
       "    .dataframe tbody tr th {\n",
       "        vertical-align: top;\n",
       "    }\n",
       "\n",
       "    .dataframe thead th {\n",
       "        text-align: right;\n",
       "    }\n",
       "</style>\n",
       "<table border=\"1\" class=\"dataframe\">\n",
       "  <thead>\n",
       "    <tr style=\"text-align: right;\">\n",
       "      <th></th>\n",
       "      <th>id_ips</th>\n",
       "      <th>likely_mode</th>\n",
       "      <th>viajeros</th>\n",
       "      <th>proporcion</th>\n",
       "    </tr>\n",
       "  </thead>\n",
       "  <tbody>\n",
       "    <tr>\n",
       "      <th>0</th>\n",
       "      <td>4</td>\n",
       "      <td>bicicleta</td>\n",
       "      <td>12912.053783</td>\n",
       "      <td>35.372238</td>\n",
       "    </tr>\n",
       "    <tr>\n",
       "      <th>1</th>\n",
       "      <td>4</td>\n",
       "      <td>pie</td>\n",
       "      <td>2377.386382</td>\n",
       "      <td>6.512789</td>\n",
       "    </tr>\n",
       "    <tr>\n",
       "      <th>2</th>\n",
       "      <td>4</td>\n",
       "      <td>publico</td>\n",
       "      <td>21213.914858</td>\n",
       "      <td>58.114973</td>\n",
       "    </tr>\n",
       "    <tr>\n",
       "      <th>3</th>\n",
       "      <td>105</td>\n",
       "      <td>bicicleta</td>\n",
       "      <td>7481.272880</td>\n",
       "      <td>34.933070</td>\n",
       "    </tr>\n",
       "    <tr>\n",
       "      <th>4</th>\n",
       "      <td>105</td>\n",
       "      <td>pie</td>\n",
       "      <td>1707.105830</td>\n",
       "      <td>7.971163</td>\n",
       "    </tr>\n",
       "    <tr>\n",
       "      <th>...</th>\n",
       "      <td>...</td>\n",
       "      <td>...</td>\n",
       "      <td>...</td>\n",
       "      <td>...</td>\n",
       "    </tr>\n",
       "    <tr>\n",
       "      <th>256</th>\n",
       "      <td>2969</td>\n",
       "      <td>pie</td>\n",
       "      <td>1959.643840</td>\n",
       "      <td>20.985281</td>\n",
       "    </tr>\n",
       "    <tr>\n",
       "      <th>257</th>\n",
       "      <td>2969</td>\n",
       "      <td>publico</td>\n",
       "      <td>2177.924061</td>\n",
       "      <td>23.322783</td>\n",
       "    </tr>\n",
       "    <tr>\n",
       "      <th>258</th>\n",
       "      <td>2974</td>\n",
       "      <td>bicicleta</td>\n",
       "      <td>4746.879299</td>\n",
       "      <td>37.929169</td>\n",
       "    </tr>\n",
       "    <tr>\n",
       "      <th>259</th>\n",
       "      <td>2974</td>\n",
       "      <td>pie</td>\n",
       "      <td>2697.064061</td>\n",
       "      <td>21.550453</td>\n",
       "    </tr>\n",
       "    <tr>\n",
       "      <th>260</th>\n",
       "      <td>2974</td>\n",
       "      <td>publico</td>\n",
       "      <td>5071.172215</td>\n",
       "      <td>40.520379</td>\n",
       "    </tr>\n",
       "  </tbody>\n",
       "</table>\n",
       "<p>261 rows × 4 columns</p>\n",
       "</div>"
      ],
      "text/plain": [
       "     id_ips likely_mode      viajeros  proporcion\n",
       "0         4   bicicleta  12912.053783   35.372238\n",
       "1         4         pie   2377.386382    6.512789\n",
       "2         4     publico  21213.914858   58.114973\n",
       "3       105   bicicleta   7481.272880   34.933070\n",
       "4       105         pie   1707.105830    7.971163\n",
       "..      ...         ...           ...         ...\n",
       "256    2969         pie   1959.643840   20.985281\n",
       "257    2969     publico   2177.924061   23.322783\n",
       "258    2974   bicicleta   4746.879299   37.929169\n",
       "259    2974         pie   2697.064061   21.550453\n",
       "260    2974     publico   5071.172215   40.520379\n",
       "\n",
       "[261 rows x 4 columns]"
      ]
     },
     "execution_count": 27,
     "metadata": {},
     "output_type": "execute_result"
    }
   ],
   "source": [
    "bike_eligibility.to_parquet('../data/01_raw/bike_eligibility.parquet')\n",
    "bike_eligibility"
   ]
  },
  {
   "cell_type": "markdown",
   "metadata": {},
   "source": [
    "Cuanto del share de viajeros esperamos que sea bike_eligible?"
   ]
  },
  {
   "cell_type": "code",
   "execution_count": 28,
   "metadata": {},
   "outputs": [
    {
     "data": {
      "text/plain": [
       "Text(0.5, 1.0, 'Proporcion de modo de viaje hacia las IPS')"
      ]
     },
     "execution_count": 28,
     "metadata": {},
     "output_type": "execute_result"
    },
    {
     "data": {
      "image/png": "[encoded data removed]",
      "text/plain": [
       "<Figure size 1200x600 with 1 Axes>"
      ]
     },
     "metadata": {
      "needs_background": "light"
     },
     "output_type": "display_data"
    }
   ],
   "source": [
    "g = sns.barplot(x='likely_mode', y='proporcion', data=bike_eligibility)\n",
    "g.set_title('Proporcion de modo de viaje hacia las IPS')"
   ]
  },
  {
   "cell_type": "code",
   "execution_count": 29,
   "metadata": {},
   "outputs": [
    {
     "data": {
      "text/html": [
       "<div>\n",
       "<style scoped>\n",
       "    .dataframe tbody tr th:only-of-type {\n",
       "        vertical-align: middle;\n",
       "    }\n",
       "\n",
       "    .dataframe tbody tr th {\n",
       "        vertical-align: top;\n",
       "    }\n",
       "\n",
       "    .dataframe thead tr th {\n",
       "        text-align: left;\n",
       "    }\n",
       "\n",
       "    .dataframe thead tr:last-of-type th {\n",
       "        text-align: right;\n",
       "    }\n",
       "</style>\n",
       "<table border=\"1\" class=\"dataframe\">\n",
       "  <thead>\n",
       "    <tr>\n",
       "      <th></th>\n",
       "      <th colspan=\"2\" halign=\"left\">proporcion</th>\n",
       "    </tr>\n",
       "    <tr>\n",
       "      <th></th>\n",
       "      <th>mean</th>\n",
       "      <th>median</th>\n",
       "    </tr>\n",
       "    <tr>\n",
       "      <th>likely_mode</th>\n",
       "      <th></th>\n",
       "      <th></th>\n",
       "    </tr>\n",
       "  </thead>\n",
       "  <tbody>\n",
       "    <tr>\n",
       "      <th>bicicleta</th>\n",
       "      <td>44.562160</td>\n",
       "      <td>44.557029</td>\n",
       "    </tr>\n",
       "    <tr>\n",
       "      <th>pie</th>\n",
       "      <td>14.110421</td>\n",
       "      <td>10.689045</td>\n",
       "    </tr>\n",
       "    <tr>\n",
       "      <th>publico</th>\n",
       "      <td>41.327419</td>\n",
       "      <td>42.000487</td>\n",
       "    </tr>\n",
       "  </tbody>\n",
       "</table>\n",
       "</div>"
      ],
      "text/plain": [
       "            proporcion           \n",
       "                  mean     median\n",
       "likely_mode                      \n",
       "bicicleta    44.562160  44.557029\n",
       "pie          14.110421  10.689045\n",
       "publico      41.327419  42.000487"
      ]
     },
     "execution_count": 29,
     "metadata": {},
     "output_type": "execute_result"
    }
   ],
   "source": [
    "bike_eligibility.groupby('likely_mode').agg({'proporcion': ['mean', 'median']})"
   ]
  },
  {
   "cell_type": "markdown",
   "metadata": {},
   "source": [
    "~44% de los viajes de trabajo(frecuentes) deberian ocurrir a mas de 1km y a menos de 7.5 km de las ips, y deberia ser posible realizarlos en bicicleta"
   ]
  },
  {
   "cell_type": "markdown",
   "metadata": {},
   "source": [
    "## Cuantas bicicletas serian necesarias?\n",
    "En una primera aproximacion, podemos usar el numero estimado de personal multiplicado por el share de bike_eligibility. Despues, al refinar este esquema, podemos pensar en una rotacion de bicicletas por turnos. Lo cual podria reducir el nuemro de biucicletas por ips a la mitad o a un tercio (dos y tres turnos)"
   ]
  },
  {
   "cell_type": "code",
   "execution_count": 30,
   "metadata": {},
   "outputs": [
    {
     "data": {
      "text/plain": [
       "Index(['direccion', 'clase_de_prestador', 'nit_ips', 'codigo_de_habilitacion',\n",
       "       'id_ips', 'nombre_ips', 'longitud_ips', 'latitud_ips', 'capacidad',\n",
       "       'empleados', 'geometry'],\n",
       "      dtype='object')"
      ]
     },
     "execution_count": 30,
     "metadata": {},
     "output_type": "execute_result"
    }
   ],
   "source": [
    "ips_geo_cap.columns"
   ]
  },
  {
   "cell_type": "code",
   "execution_count": 31,
   "metadata": {},
   "outputs": [
    {
     "data": {
      "text/html": [
       "<div>\n",
       "<style scoped>\n",
       "    .dataframe tbody tr th:only-of-type {\n",
       "        vertical-align: middle;\n",
       "    }\n",
       "\n",
       "    .dataframe tbody tr th {\n",
       "        vertical-align: top;\n",
       "    }\n",
       "\n",
       "    .dataframe thead th {\n",
       "        text-align: right;\n",
       "    }\n",
       "</style>\n",
       "<table border=\"1\" class=\"dataframe\">\n",
       "  <thead>\n",
       "    <tr style=\"text-align: right;\">\n",
       "      <th></th>\n",
       "      <th>direccion</th>\n",
       "      <th>clase_de_prestador</th>\n",
       "      <th>nit_ips</th>\n",
       "      <th>codigo_de_habilitacion</th>\n",
       "      <th>id_ips</th>\n",
       "      <th>nombre_ips</th>\n",
       "      <th>longitud_ips</th>\n",
       "      <th>latitud_ips</th>\n",
       "      <th>capacidad</th>\n",
       "      <th>empleados</th>\n",
       "      <th>geometry</th>\n",
       "      <th>proporcion</th>\n",
       "      <th>expected_bikes</th>\n",
       "    </tr>\n",
       "  </thead>\n",
       "  <tbody>\n",
       "    <tr>\n",
       "      <th>0</th>\n",
       "      <td>AC 33 # 14 37</td>\n",
       "      <td>Instituciones - IPS</td>\n",
       "      <td>830099212</td>\n",
       "      <td>110010905601</td>\n",
       "      <td>4</td>\n",
       "      <td>CENTRO DE INVESTIGACIONES ONCOLOGICAS CLINICA ...</td>\n",
       "      <td>-74.069838</td>\n",
       "      <td>4.621248</td>\n",
       "      <td>99.0</td>\n",
       "      <td>200.0</td>\n",
       "      <td>POINT (-74.06984 4.62125)</td>\n",
       "      <td>35.372238</td>\n",
       "      <td>71.0</td>\n",
       "    </tr>\n",
       "    <tr>\n",
       "      <th>1</th>\n",
       "      <td>CRA 8 # 17 45 SUR</td>\n",
       "      <td>Instituciones - IPS</td>\n",
       "      <td>860015888</td>\n",
       "      <td>110010566801</td>\n",
       "      <td>412</td>\n",
       "      <td>HOSPITAL UNIVERSITARIO CLINICA SAN RAFAEL</td>\n",
       "      <td>-74.091331</td>\n",
       "      <td>4.576651</td>\n",
       "      <td>226.0</td>\n",
       "      <td>500.0</td>\n",
       "      <td>POINT (-74.09133 4.57665)</td>\n",
       "      <td>50.438463</td>\n",
       "      <td>252.0</td>\n",
       "    </tr>\n",
       "    <tr>\n",
       "      <th>2</th>\n",
       "      <td>CARRERA 8#17-44 SUR</td>\n",
       "      <td>Instituciones - IPS</td>\n",
       "      <td>860015888</td>\n",
       "      <td>110010566809</td>\n",
       "      <td>2974</td>\n",
       "      <td>HOSPITAL UNIVERSITARIO CLINICA SAN RAFAEL</td>\n",
       "      <td>-74.090281</td>\n",
       "      <td>4.575977</td>\n",
       "      <td>226.0</td>\n",
       "      <td>500.0</td>\n",
       "      <td>POINT (-74.09028 4.57598)</td>\n",
       "      <td>37.929169</td>\n",
       "      <td>190.0</td>\n",
       "    </tr>\n",
       "    <tr>\n",
       "      <th>3</th>\n",
       "      <td>DIAG 115 A # 70 C 75</td>\n",
       "      <td>Instituciones - IPS</td>\n",
       "      <td>860006656</td>\n",
       "      <td>110010644701</td>\n",
       "      <td>433</td>\n",
       "      <td>FUNDACION ABOOD SHAIO</td>\n",
       "      <td>-74.072870</td>\n",
       "      <td>4.698066</td>\n",
       "      <td>247.0</td>\n",
       "      <td>500.0</td>\n",
       "      <td>POINT (-74.07287 4.69807)</td>\n",
       "      <td>59.945174</td>\n",
       "      <td>300.0</td>\n",
       "    </tr>\n",
       "    <tr>\n",
       "      <th>4</th>\n",
       "      <td>CL 45 F # 16 A 11</td>\n",
       "      <td>Instituciones - IPS</td>\n",
       "      <td>860010783</td>\n",
       "      <td>110010752101</td>\n",
       "      <td>491</td>\n",
       "      <td>CLINICA NUEVA</td>\n",
       "      <td>-74.070961</td>\n",
       "      <td>4.634261</td>\n",
       "      <td>95.0</td>\n",
       "      <td>200.0</td>\n",
       "      <td>POINT (-74.07096 4.63426)</td>\n",
       "      <td>34.587858</td>\n",
       "      <td>69.0</td>\n",
       "    </tr>\n",
       "  </tbody>\n",
       "</table>\n",
       "</div>"
      ],
      "text/plain": [
       "              direccion   clase_de_prestador    nit_ips  \\\n",
       "0         AC 33 # 14 37  Instituciones - IPS  830099212   \n",
       "1     CRA 8 # 17 45 SUR  Instituciones - IPS  860015888   \n",
       "2   CARRERA 8#17-44 SUR  Instituciones - IPS  860015888   \n",
       "3  DIAG 115 A # 70 C 75  Instituciones - IPS  860006656   \n",
       "4     CL 45 F # 16 A 11  Instituciones - IPS  860010783   \n",
       "\n",
       "   codigo_de_habilitacion  id_ips  \\\n",
       "0            110010905601       4   \n",
       "1            110010566801     412   \n",
       "2            110010566809    2974   \n",
       "3            110010644701     433   \n",
       "4            110010752101     491   \n",
       "\n",
       "                                          nombre_ips  longitud_ips  \\\n",
       "0  CENTRO DE INVESTIGACIONES ONCOLOGICAS CLINICA ...    -74.069838   \n",
       "1          HOSPITAL UNIVERSITARIO CLINICA SAN RAFAEL    -74.091331   \n",
       "2          HOSPITAL UNIVERSITARIO CLINICA SAN RAFAEL    -74.090281   \n",
       "3                              FUNDACION ABOOD SHAIO    -74.072870   \n",
       "4                                      CLINICA NUEVA    -74.070961   \n",
       "\n",
       "   latitud_ips  capacidad  empleados                   geometry  proporcion  \\\n",
       "0     4.621248       99.0      200.0  POINT (-74.06984 4.62125)   35.372238   \n",
       "1     4.576651      226.0      500.0  POINT (-74.09133 4.57665)   50.438463   \n",
       "2     4.575977      226.0      500.0  POINT (-74.09028 4.57598)   37.929169   \n",
       "3     4.698066      247.0      500.0  POINT (-74.07287 4.69807)   59.945174   \n",
       "4     4.634261       95.0      200.0  POINT (-74.07096 4.63426)   34.587858   \n",
       "\n",
       "   expected_bikes  \n",
       "0            71.0  \n",
       "1           252.0  \n",
       "2           190.0  \n",
       "3           300.0  \n",
       "4            69.0  "
      ]
     },
     "execution_count": 31,
     "metadata": {},
     "output_type": "execute_result"
    }
   ],
   "source": [
    "ips_geo_bikes = (\n",
    "    ips_geo_cap.\n",
    "    merge(bike_eligibility.loc[lambda x:x.likely_mode=='bicicleta'][['id_ips', 'proporcion']],\n",
    "          on='id_ips').\n",
    "    assign(expected_bikes = lambda x: np.round(x.empleados*x.proporcion/100))\n",
    ")\n",
    "\n",
    "ips_geo_bikes.head()"
   ]
  },
  {
   "cell_type": "code",
   "execution_count": 32,
   "metadata": {},
   "outputs": [],
   "source": [
    "# guardamos estos datos en resultados\n",
    "ips_geo_bikes.to_csv('../data/03_results/ips_bikes.csv')"
   ]
  },
  {
   "cell_type": "markdown",
   "metadata": {},
   "source": [
    "Este resultado nos da el estimado de bicicletas necesarias por cada ips. En total tendriamos"
   ]
  },
  {
   "cell_type": "code",
   "execution_count": 33,
   "metadata": {},
   "outputs": [
    {
     "data": {
      "text/plain": [
       "9819.0"
      ]
     },
     "execution_count": 33,
     "metadata": {},
     "output_type": "execute_result"
    }
   ],
   "source": [
    "ips_geo_bikes.expected_bikes.sum()"
   ]
  },
  {
   "cell_type": "markdown",
   "metadata": {},
   "source": [
    "Esta cifra es alcanzable teniendo en cuenta la disponibilidad de bibicletas del distrito y que es posible lanzar una campanha donde las personas presten su bicicleta durante la crisis. Yas que bogota cuenta con alrededor de 800k bicicletas. Una de cada 20 usuarias de bicicleta necesitarian prestar su bicicleta. no obstante, si esta iniciativa resulta dificil, podemos manejar un esquema de priorizacion."
   ]
  },
  {
   "cell_type": "markdown",
   "metadata": {},
   "source": [
    "## Priorizacion de asignacion de bicicletas\n",
    "Podemos proponer una priorizacin de asignacion de bicicletas teniendo en cuenta los siguientes factores:\n",
    "\n",
    "1. IPS mas grandes deberian tener mayor prioridad, tenemos la estimacion de camas\n",
    "2. IPS en zonas mas densas deberian tener mayor prioridad, pues van a tender a recibir mas casos mas rapido. Podemos estimar esto con los datos de numero de hogares en datos de utam \n",
    "3. IPS mas cerca a transporte publico deberia tener menor prioridad. Tratamos esto a continuacion"
   ]
  },
  {
   "cell_type": "markdown",
   "metadata": {},
   "source": [
    "## Que tan lejos se encuentran estaciones de transmilenio de los hospitales principales\n",
    "Para aproximadamente 37% de los empleados la solucion de bicicletas no es viable. Al mismo tiempo, podria haber una dificultad en obtener el numero necesario de bicicletas\n",
    "\n",
    "Este analisis tambien nos servira para obtener las distancias de las IPS a transporte publico"
   ]
  },
  {
   "cell_type": "code",
   "execution_count": 34,
   "metadata": {},
   "outputs": [],
   "source": [
    "# merge ips and estaciones data\n",
    "ips_estaciones = pd.merge(\n",
    "    ips_geo_cap.assign(key=1),\n",
    "    estaciones.assign(key=1),\n",
    "    on = 'key'\n",
    ").drop('key', axis=1)"
   ]
  },
  {
   "cell_type": "code",
   "execution_count": 35,
   "metadata": {},
   "outputs": [
    {
     "data": {
      "text/plain": [
       "(13112, 23)"
      ]
     },
     "execution_count": 35,
     "metadata": {},
     "output_type": "execute_result"
    }
   ],
   "source": [
    "ips_estaciones.shape"
   ]
  },
  {
   "cell_type": "code",
   "execution_count": 36,
   "metadata": {},
   "outputs": [
    {
     "data": {
      "text/html": [
       "<div>\n",
       "<style scoped>\n",
       "    .dataframe tbody tr th:only-of-type {\n",
       "        vertical-align: middle;\n",
       "    }\n",
       "\n",
       "    .dataframe tbody tr th {\n",
       "        vertical-align: top;\n",
       "    }\n",
       "\n",
       "    .dataframe thead th {\n",
       "        text-align: right;\n",
       "    }\n",
       "</style>\n",
       "<table border=\"1\" class=\"dataframe\">\n",
       "  <thead>\n",
       "    <tr style=\"text-align: right;\">\n",
       "      <th></th>\n",
       "      <th>direccion</th>\n",
       "      <th>clase_de_prestador</th>\n",
       "      <th>nit_ips</th>\n",
       "      <th>codigo_de_habilitacion</th>\n",
       "      <th>id_ips</th>\n",
       "      <th>nombre_ips</th>\n",
       "      <th>longitud_ips</th>\n",
       "      <th>latitud_ips</th>\n",
       "      <th>capacidad</th>\n",
       "      <th>empleados</th>\n",
       "      <th>...</th>\n",
       "      <th>ubicacion_estacion</th>\n",
       "      <th>troncal_estacion</th>\n",
       "      <th>numero_vagones_estacion</th>\n",
       "      <th>numero_accesos_estacion</th>\n",
       "      <th>biciestacion_estacion</th>\n",
       "      <th>capacidad_biciestacion_estacion</th>\n",
       "      <th>tipo_estacion</th>\n",
       "      <th>biciparqueadero_estacion</th>\n",
       "      <th>latitud_estacion</th>\n",
       "      <th>longitud_estacion</th>\n",
       "    </tr>\n",
       "  </thead>\n",
       "  <tbody>\n",
       "    <tr>\n",
       "      <th>0</th>\n",
       "      <td>AC 33 # 14 37</td>\n",
       "      <td>Instituciones - IPS</td>\n",
       "      <td>830099212</td>\n",
       "      <td>110010905601</td>\n",
       "      <td>4</td>\n",
       "      <td>CENTRO DE INVESTIGACIONES ONCOLOGICAS CLINICA ...</td>\n",
       "      <td>-74.069838</td>\n",
       "      <td>4.621248</td>\n",
       "      <td>99.0</td>\n",
       "      <td>200.0</td>\n",
       "      <td>...</td>\n",
       "      <td>Carrera 86</td>\n",
       "      <td>Calle 80</td>\n",
       "      <td>1</td>\n",
       "      <td>1</td>\n",
       "      <td>0</td>\n",
       "      <td>0</td>\n",
       "      <td>INTERMEDIA</td>\n",
       "      <td>NO</td>\n",
       "      <td>4.702500</td>\n",
       "      <td>-74.100253</td>\n",
       "    </tr>\n",
       "    <tr>\n",
       "      <th>1</th>\n",
       "      <td>AC 33 # 14 37</td>\n",
       "      <td>Instituciones - IPS</td>\n",
       "      <td>830099212</td>\n",
       "      <td>110010905601</td>\n",
       "      <td>4</td>\n",
       "      <td>CENTRO DE INVESTIGACIONES ONCOLOGICAS CLINICA ...</td>\n",
       "      <td>-74.069838</td>\n",
       "      <td>4.621248</td>\n",
       "      <td>99.0</td>\n",
       "      <td>200.0</td>\n",
       "      <td>...</td>\n",
       "      <td>AutoSur-Av 54</td>\n",
       "      <td>NQS</td>\n",
       "      <td>2</td>\n",
       "      <td>1</td>\n",
       "      <td>0</td>\n",
       "      <td>0</td>\n",
       "      <td>SENCILLA</td>\n",
       "      <td>NO</td>\n",
       "      <td>4.595713</td>\n",
       "      <td>-74.141590</td>\n",
       "    </tr>\n",
       "    <tr>\n",
       "      <th>2</th>\n",
       "      <td>AC 33 # 14 37</td>\n",
       "      <td>Instituciones - IPS</td>\n",
       "      <td>830099212</td>\n",
       "      <td>110010905601</td>\n",
       "      <td>4</td>\n",
       "      <td>CENTRO DE INVESTIGACIONES ONCOLOGICAS CLINICA ...</td>\n",
       "      <td>-74.069838</td>\n",
       "      <td>4.621248</td>\n",
       "      <td>99.0</td>\n",
       "      <td>200.0</td>\n",
       "      <td>...</td>\n",
       "      <td>Carrera 53</td>\n",
       "      <td>Calle 80</td>\n",
       "      <td>1</td>\n",
       "      <td>1</td>\n",
       "      <td>0</td>\n",
       "      <td>0</td>\n",
       "      <td>SENCILLA</td>\n",
       "      <td>NO</td>\n",
       "      <td>4.681940</td>\n",
       "      <td>-74.077365</td>\n",
       "    </tr>\n",
       "    <tr>\n",
       "      <th>3</th>\n",
       "      <td>AC 33 # 14 37</td>\n",
       "      <td>Instituciones - IPS</td>\n",
       "      <td>830099212</td>\n",
       "      <td>110010905601</td>\n",
       "      <td>4</td>\n",
       "      <td>CENTRO DE INVESTIGACIONES ONCOLOGICAS CLINICA ...</td>\n",
       "      <td>-74.069838</td>\n",
       "      <td>4.621248</td>\n",
       "      <td>99.0</td>\n",
       "      <td>200.0</td>\n",
       "      <td>...</td>\n",
       "      <td>Kr 30 CL 63</td>\n",
       "      <td>NQS</td>\n",
       "      <td>2</td>\n",
       "      <td>1</td>\n",
       "      <td>0</td>\n",
       "      <td>0</td>\n",
       "      <td>SENCILLA</td>\n",
       "      <td>NO</td>\n",
       "      <td>4.657063</td>\n",
       "      <td>-74.077754</td>\n",
       "    </tr>\n",
       "    <tr>\n",
       "      <th>4</th>\n",
       "      <td>AC 33 # 14 37</td>\n",
       "      <td>Instituciones - IPS</td>\n",
       "      <td>830099212</td>\n",
       "      <td>110010905601</td>\n",
       "      <td>4</td>\n",
       "      <td>CENTRO DE INVESTIGACIONES ONCOLOGICAS CLINICA ...</td>\n",
       "      <td>-74.069838</td>\n",
       "      <td>4.621248</td>\n",
       "      <td>99.0</td>\n",
       "      <td>200.0</td>\n",
       "      <td>...</td>\n",
       "      <td>Carrera 96</td>\n",
       "      <td>Calle 80</td>\n",
       "      <td>0</td>\n",
       "      <td>0</td>\n",
       "      <td>1</td>\n",
       "      <td>353</td>\n",
       "      <td>CABECERA</td>\n",
       "      <td>SI</td>\n",
       "      <td>4.709523</td>\n",
       "      <td>-74.110525</td>\n",
       "    </tr>\n",
       "  </tbody>\n",
       "</table>\n",
       "<p>5 rows × 23 columns</p>\n",
       "</div>"
      ],
      "text/plain": [
       "       direccion   clase_de_prestador    nit_ips  codigo_de_habilitacion  \\\n",
       "0  AC 33 # 14 37  Instituciones - IPS  830099212            110010905601   \n",
       "1  AC 33 # 14 37  Instituciones - IPS  830099212            110010905601   \n",
       "2  AC 33 # 14 37  Instituciones - IPS  830099212            110010905601   \n",
       "3  AC 33 # 14 37  Instituciones - IPS  830099212            110010905601   \n",
       "4  AC 33 # 14 37  Instituciones - IPS  830099212            110010905601   \n",
       "\n",
       "   id_ips                                         nombre_ips  longitud_ips  \\\n",
       "0       4  CENTRO DE INVESTIGACIONES ONCOLOGICAS CLINICA ...    -74.069838   \n",
       "1       4  CENTRO DE INVESTIGACIONES ONCOLOGICAS CLINICA ...    -74.069838   \n",
       "2       4  CENTRO DE INVESTIGACIONES ONCOLOGICAS CLINICA ...    -74.069838   \n",
       "3       4  CENTRO DE INVESTIGACIONES ONCOLOGICAS CLINICA ...    -74.069838   \n",
       "4       4  CENTRO DE INVESTIGACIONES ONCOLOGICAS CLINICA ...    -74.069838   \n",
       "\n",
       "   latitud_ips  capacidad  empleados  ... ubicacion_estacion  \\\n",
       "0     4.621248       99.0      200.0  ...         Carrera 86   \n",
       "1     4.621248       99.0      200.0  ...      AutoSur-Av 54   \n",
       "2     4.621248       99.0      200.0  ...         Carrera 53   \n",
       "3     4.621248       99.0      200.0  ...        Kr 30 CL 63   \n",
       "4     4.621248       99.0      200.0  ...         Carrera 96   \n",
       "\n",
       "   troncal_estacion numero_vagones_estacion numero_accesos_estacion  \\\n",
       "0          Calle 80                       1                       1   \n",
       "1               NQS                       2                       1   \n",
       "2          Calle 80                       1                       1   \n",
       "3               NQS                       2                       1   \n",
       "4          Calle 80                       0                       0   \n",
       "\n",
       "  biciestacion_estacion  capacidad_biciestacion_estacion  tipo_estacion  \\\n",
       "0                     0                                0     INTERMEDIA   \n",
       "1                     0                                0       SENCILLA   \n",
       "2                     0                                0       SENCILLA   \n",
       "3                     0                                0       SENCILLA   \n",
       "4                     1                              353       CABECERA   \n",
       "\n",
       "   biciparqueadero_estacion  latitud_estacion longitud_estacion  \n",
       "0                        NO          4.702500        -74.100253  \n",
       "1                        NO          4.595713        -74.141590  \n",
       "2                        NO          4.681940        -74.077365  \n",
       "3                        NO          4.657063        -74.077754  \n",
       "4                        SI          4.709523        -74.110525  \n",
       "\n",
       "[5 rows x 23 columns]"
      ]
     },
     "execution_count": 36,
     "metadata": {},
     "output_type": "execute_result"
    }
   ],
   "source": [
    "ips_estaciones.head()"
   ]
  },
  {
   "cell_type": "code",
   "execution_count": 37,
   "metadata": {},
   "outputs": [],
   "source": [
    "# vectorized haversine function, mas rapida que la de geopandas\n",
    "def haversine(lat1, lon1, lat2, lon2, to_radians=True, earth_radius=6371):\n",
    "    \"\"\"\n",
    "    slightly modified version: of http://stackoverflow.com/a/29546836/2901002\n",
    "\n",
    "    Calculate the great circle distance between two points\n",
    "    on the earth (specified in decimal degrees or in radians)\n",
    "\n",
    "    All (lat, lon) coordinates must have numeric dtypes and be of equal length.\n",
    "\n",
    "    \"\"\"\n",
    "    if to_radians:\n",
    "        lat1, lon1, lat2, lon2 = np.radians([lat1, lon1, lat2, lon2])\n",
    "\n",
    "    a = np.sin((lat2-lat1)/2.0)**2 + \\\n",
    "        np.cos(lat1) * np.cos(lat2) * np.sin((lon2-lon1)/2.0)**2\n",
    "\n",
    "    return earth_radius * 2 * np.arcsin(np.sqrt(a))"
   ]
  },
  {
   "cell_type": "code",
   "execution_count": 38,
   "metadata": {},
   "outputs": [],
   "source": [
    "# agregar distancia\n",
    "ips_estaciones = (ips_estaciones.\n",
    "    assign(distancia=lambda x: haversine(x.latitud_ips, x.longitud_ips,\n",
    "                                        x.latitud_estacion, x.longitud_estacion))\n",
    ")"
   ]
  },
  {
   "cell_type": "markdown",
   "metadata": {},
   "source": [
    "Ahora, encontramos las estaciones mas cercanas a cada centro medico"
   ]
  },
  {
   "cell_type": "code",
   "execution_count": 39,
   "metadata": {},
   "outputs": [],
   "source": [
    "ips_estaciones = (ips_estaciones.\n",
    "    assign(dist_rank=lambda x: x.groupby('id_ips').distancia.rank(method='dense'))\n",
    ")"
   ]
  },
  {
   "cell_type": "markdown",
   "metadata": {},
   "source": [
    "Seleccionamos la estacion mas cercana, aunque en un analisis mas refinado podemos dejar las estaciones a cierta distancia maxima del las ips, con eso se puede optimizar el transporte a varios puntos"
   ]
  },
  {
   "cell_type": "code",
   "execution_count": 40,
   "metadata": {},
   "outputs": [],
   "source": [
    "ips_estaciones_top = (ips_estaciones.loc[lambda x:x.dist_rank==1])"
   ]
  },
  {
   "cell_type": "code",
   "execution_count": 41,
   "metadata": {},
   "outputs": [],
   "source": [
    "# guardamos este resultado intermedio\n",
    "ips_estaciones_top.to_csv('../data/02_processed/ips_estaciones_top.csv')"
   ]
  },
  {
   "cell_type": "code",
   "execution_count": 42,
   "metadata": {},
   "outputs": [
    {
     "data": {
      "text/html": [
       "<div>\n",
       "<style scoped>\n",
       "    .dataframe tbody tr th:only-of-type {\n",
       "        vertical-align: middle;\n",
       "    }\n",
       "\n",
       "    .dataframe tbody tr th {\n",
       "        vertical-align: top;\n",
       "    }\n",
       "\n",
       "    .dataframe thead th {\n",
       "        text-align: right;\n",
       "    }\n",
       "</style>\n",
       "<table border=\"1\" class=\"dataframe\">\n",
       "  <thead>\n",
       "    <tr style=\"text-align: right;\">\n",
       "      <th></th>\n",
       "      <th>direccion</th>\n",
       "      <th>clase_de_prestador</th>\n",
       "      <th>nit_ips</th>\n",
       "      <th>codigo_de_habilitacion</th>\n",
       "      <th>id_ips</th>\n",
       "      <th>nombre_ips</th>\n",
       "      <th>longitud_ips</th>\n",
       "      <th>latitud_ips</th>\n",
       "      <th>capacidad</th>\n",
       "      <th>empleados</th>\n",
       "      <th>...</th>\n",
       "      <th>numero_vagones_estacion</th>\n",
       "      <th>numero_accesos_estacion</th>\n",
       "      <th>biciestacion_estacion</th>\n",
       "      <th>capacidad_biciestacion_estacion</th>\n",
       "      <th>tipo_estacion</th>\n",
       "      <th>biciparqueadero_estacion</th>\n",
       "      <th>latitud_estacion</th>\n",
       "      <th>longitud_estacion</th>\n",
       "      <th>distancia</th>\n",
       "      <th>dist_rank</th>\n",
       "    </tr>\n",
       "  </thead>\n",
       "  <tbody>\n",
       "    <tr>\n",
       "      <th>18</th>\n",
       "      <td>AC 33 # 14 37</td>\n",
       "      <td>Instituciones - IPS</td>\n",
       "      <td>830099212</td>\n",
       "      <td>110010905601</td>\n",
       "      <td>4</td>\n",
       "      <td>CENTRO DE INVESTIGACIONES ONCOLOGICAS CLINICA ...</td>\n",
       "      <td>-74.069838</td>\n",
       "      <td>4.621248</td>\n",
       "      <td>99.0</td>\n",
       "      <td>200.0</td>\n",
       "      <td>...</td>\n",
       "      <td>3</td>\n",
       "      <td>2</td>\n",
       "      <td>0</td>\n",
       "      <td>0</td>\n",
       "      <td>SENCILLA</td>\n",
       "      <td>NO</td>\n",
       "      <td>4.622213</td>\n",
       "      <td>-74.069588</td>\n",
       "      <td>0.110898</td>\n",
       "      <td>1.0</td>\n",
       "    </tr>\n",
       "    <tr>\n",
       "      <th>238</th>\n",
       "      <td>CRA 8 # 17 45 SUR</td>\n",
       "      <td>Instituciones - IPS</td>\n",
       "      <td>860015888</td>\n",
       "      <td>110010566801</td>\n",
       "      <td>412</td>\n",
       "      <td>HOSPITAL UNIVERSITARIO CLINICA SAN RAFAEL</td>\n",
       "      <td>-74.091331</td>\n",
       "      <td>4.576651</td>\n",
       "      <td>226.0</td>\n",
       "      <td>500.0</td>\n",
       "      <td>...</td>\n",
       "      <td>3</td>\n",
       "      <td>2</td>\n",
       "      <td>0</td>\n",
       "      <td>0</td>\n",
       "      <td>SENCILLA</td>\n",
       "      <td>NO</td>\n",
       "      <td>4.575723</td>\n",
       "      <td>-74.094563</td>\n",
       "      <td>0.372744</td>\n",
       "      <td>1.0</td>\n",
       "    </tr>\n",
       "    <tr>\n",
       "      <th>387</th>\n",
       "      <td>CARRERA 8#17-44 SUR</td>\n",
       "      <td>Instituciones - IPS</td>\n",
       "      <td>860015888</td>\n",
       "      <td>110010566809</td>\n",
       "      <td>2974</td>\n",
       "      <td>HOSPITAL UNIVERSITARIO CLINICA SAN RAFAEL</td>\n",
       "      <td>-74.090281</td>\n",
       "      <td>4.575977</td>\n",
       "      <td>226.0</td>\n",
       "      <td>500.0</td>\n",
       "      <td>...</td>\n",
       "      <td>3</td>\n",
       "      <td>2</td>\n",
       "      <td>0</td>\n",
       "      <td>0</td>\n",
       "      <td>SENCILLA</td>\n",
       "      <td>NO</td>\n",
       "      <td>4.575723</td>\n",
       "      <td>-74.094563</td>\n",
       "      <td>0.475371</td>\n",
       "      <td>1.0</td>\n",
       "    </tr>\n",
       "    <tr>\n",
       "      <th>487</th>\n",
       "      <td>DIAG 115 A # 70 C 75</td>\n",
       "      <td>Instituciones - IPS</td>\n",
       "      <td>860006656</td>\n",
       "      <td>110010644701</td>\n",
       "      <td>433</td>\n",
       "      <td>FUNDACION ABOOD SHAIO</td>\n",
       "      <td>-74.072870</td>\n",
       "      <td>4.698066</td>\n",
       "      <td>247.0</td>\n",
       "      <td>500.0</td>\n",
       "      <td>...</td>\n",
       "      <td>2</td>\n",
       "      <td>1</td>\n",
       "      <td>0</td>\n",
       "      <td>0</td>\n",
       "      <td>SENCILLA</td>\n",
       "      <td>NO</td>\n",
       "      <td>4.699181</td>\n",
       "      <td>-74.069756</td>\n",
       "      <td>0.366671</td>\n",
       "      <td>1.0</td>\n",
       "    </tr>\n",
       "    <tr>\n",
       "      <th>730</th>\n",
       "      <td>CL 45 F # 16 A 11</td>\n",
       "      <td>Instituciones - IPS</td>\n",
       "      <td>860010783</td>\n",
       "      <td>110010752101</td>\n",
       "      <td>491</td>\n",
       "      <td>CLINICA NUEVA</td>\n",
       "      <td>-74.070961</td>\n",
       "      <td>4.634261</td>\n",
       "      <td>95.0</td>\n",
       "      <td>200.0</td>\n",
       "      <td>...</td>\n",
       "      <td>3</td>\n",
       "      <td>2</td>\n",
       "      <td>0</td>\n",
       "      <td>0</td>\n",
       "      <td>SENCILLA</td>\n",
       "      <td>NO</td>\n",
       "      <td>4.633374</td>\n",
       "      <td>-74.067381</td>\n",
       "      <td>0.408929</td>\n",
       "      <td>1.0</td>\n",
       "    </tr>\n",
       "  </tbody>\n",
       "</table>\n",
       "<p>5 rows × 25 columns</p>\n",
       "</div>"
      ],
      "text/plain": [
       "                direccion   clase_de_prestador    nit_ips  \\\n",
       "18          AC 33 # 14 37  Instituciones - IPS  830099212   \n",
       "238     CRA 8 # 17 45 SUR  Instituciones - IPS  860015888   \n",
       "387   CARRERA 8#17-44 SUR  Instituciones - IPS  860015888   \n",
       "487  DIAG 115 A # 70 C 75  Instituciones - IPS  860006656   \n",
       "730     CL 45 F # 16 A 11  Instituciones - IPS  860010783   \n",
       "\n",
       "     codigo_de_habilitacion  id_ips  \\\n",
       "18             110010905601       4   \n",
       "238            110010566801     412   \n",
       "387            110010566809    2974   \n",
       "487            110010644701     433   \n",
       "730            110010752101     491   \n",
       "\n",
       "                                            nombre_ips  longitud_ips  \\\n",
       "18   CENTRO DE INVESTIGACIONES ONCOLOGICAS CLINICA ...    -74.069838   \n",
       "238          HOSPITAL UNIVERSITARIO CLINICA SAN RAFAEL    -74.091331   \n",
       "387          HOSPITAL UNIVERSITARIO CLINICA SAN RAFAEL    -74.090281   \n",
       "487                              FUNDACION ABOOD SHAIO    -74.072870   \n",
       "730                                      CLINICA NUEVA    -74.070961   \n",
       "\n",
       "     latitud_ips  capacidad  empleados  ... numero_vagones_estacion  \\\n",
       "18      4.621248       99.0      200.0  ...                       3   \n",
       "238     4.576651      226.0      500.0  ...                       3   \n",
       "387     4.575977      226.0      500.0  ...                       3   \n",
       "487     4.698066      247.0      500.0  ...                       2   \n",
       "730     4.634261       95.0      200.0  ...                       3   \n",
       "\n",
       "     numero_accesos_estacion biciestacion_estacion  \\\n",
       "18                         2                     0   \n",
       "238                        2                     0   \n",
       "387                        2                     0   \n",
       "487                        1                     0   \n",
       "730                        2                     0   \n",
       "\n",
       "    capacidad_biciestacion_estacion tipo_estacion  biciparqueadero_estacion  \\\n",
       "18                                0      SENCILLA                        NO   \n",
       "238                               0      SENCILLA                        NO   \n",
       "387                               0      SENCILLA                        NO   \n",
       "487                               0      SENCILLA                        NO   \n",
       "730                               0      SENCILLA                        NO   \n",
       "\n",
       "     latitud_estacion  longitud_estacion  distancia dist_rank  \n",
       "18           4.622213         -74.069588   0.110898       1.0  \n",
       "238          4.575723         -74.094563   0.372744       1.0  \n",
       "387          4.575723         -74.094563   0.475371       1.0  \n",
       "487          4.699181         -74.069756   0.366671       1.0  \n",
       "730          4.633374         -74.067381   0.408929       1.0  \n",
       "\n",
       "[5 rows x 25 columns]"
      ]
     },
     "execution_count": 42,
     "metadata": {},
     "output_type": "execute_result"
    }
   ],
   "source": [
    "ips_estaciones_top.head()"
   ]
  },
  {
   "cell_type": "code",
   "execution_count": 43,
   "metadata": {},
   "outputs": [
    {
     "data": {
      "text/plain": [
       "Text(0.5, 1.0, 'distancia minima de la IPS a una estacion de TM')"
      ]
     },
     "execution_count": 43,
     "metadata": {},
     "output_type": "execute_result"
    },
    {
     "data": {
      "image/png": "[encoded data removed]",
      "text/plain": [
       "<Figure size 1200x600 with 1 Axes>"
      ]
     },
     "metadata": {
      "needs_background": "light"
     },
     "output_type": "display_data"
    }
   ],
   "source": [
    "# a quedistancias estan?\n",
    "g = sns.distplot(ips_estaciones_top.distancia, kde=False)\n",
    "g.set_title('distancia minima de la IPS a una estacion de TM')"
   ]
  },
  {
   "cell_type": "code",
   "execution_count": 44,
   "metadata": {},
   "outputs": [
    {
     "data": {
      "text/plain": [
       "0.0    0.035118\n",
       "0.1    0.155071\n",
       "0.2    0.205892\n",
       "0.3    0.288092\n",
       "0.4    0.350584\n",
       "0.5    0.443627\n",
       "0.6    0.529396\n",
       "0.7    0.739995\n",
       "0.8    1.223231\n",
       "0.9    1.880240\n",
       "1.0    2.981354\n",
       "Name: distancia, dtype: float64"
      ]
     },
     "execution_count": 44,
     "metadata": {},
     "output_type": "execute_result"
    }
   ],
   "source": [
    "ips_estaciones_top.distancia.quantile(q=np.linspace(0,1,11))"
   ]
  },
  {
   "cell_type": "markdown",
   "metadata": {},
   "source": [
    "## Calculos priorizacion \n",
    "\n",
    "Volviendo a la priorizacion:\n",
    "\n",
    "Podemos proponer una priorizacin de asignacion de bicicletas teniendo en cuenta los siguientes factores:\n",
    "\n",
    "1. IPS mas grandes deberian tener mayor prioridad, tenemos la estimacion de camas\n",
    "2. IPS en zonas mas densas deberian tener mayor prioridad, pues van a tender a recibir mas casos mas rapido. Podemos estimar esto con los datos de numero de hogares en datos de utam \n",
    "3. IPS mas cerca a transporte publico deberia tener menor prioridad. Tratamos esto a continuacion\n",
    "\n"
   ]
  },
  {
   "cell_type": "code",
   "execution_count": 45,
   "metadata": {},
   "outputs": [
    {
     "data": {
      "text/plain": [
       "Index(['direccion', 'clase_de_prestador', 'nit_ips', 'codigo_de_habilitacion',\n",
       "       'id_ips', 'nombre_ips', 'longitud_ips', 'latitud_ips', 'capacidad',\n",
       "       'empleados', 'geometry', 'proporcion', 'expected_bikes'],\n",
       "      dtype='object')"
      ]
     },
     "execution_count": 45,
     "metadata": {},
     "output_type": "execute_result"
    }
   ],
   "source": [
    "ips_geo_bikes.columns"
   ]
  },
  {
   "cell_type": "code",
   "execution_count": 46,
   "metadata": {},
   "outputs": [
    {
     "data": {
      "text/plain": [
       "Index(['direccion', 'clase_de_prestador', 'nit_ips', 'codigo_de_habilitacion',\n",
       "       'id_ips', 'nombre_ips', 'longitud_ips', 'latitud_ips', 'capacidad',\n",
       "       'empleados', 'geometry', 'numero_estacion', 'nombre_estacion',\n",
       "       'ubicacion_estacion', 'troncal_estacion', 'numero_vagones_estacion',\n",
       "       'numero_accesos_estacion', 'biciestacion_estacion',\n",
       "       'capacidad_biciestacion_estacion', 'tipo_estacion',\n",
       "       'biciparqueadero_estacion', 'latitud_estacion', 'longitud_estacion',\n",
       "       'distancia', 'dist_rank'],\n",
       "      dtype='object')"
      ]
     },
     "execution_count": 46,
     "metadata": {},
     "output_type": "execute_result"
    }
   ],
   "source": [
    "ips_estaciones_top.columns"
   ]
  },
  {
   "cell_type": "code",
   "execution_count": 51,
   "metadata": {},
   "outputs": [
    {
     "data": {
      "text/plain": [
       "Index(['nit_ips', 'nombre_ips', 'intensivo', 'intermedio', 'normal', 'total',\n",
       "       'share_intensivo', 'rank_intensivo', 'rank_total'],\n",
       "      dtype='object', name='categoria_capacidad')"
      ]
     },
     "execution_count": 51,
     "metadata": {},
     "output_type": "execute_result"
    }
   ],
   "source": [
    "# capacities_breakdown from (people.ipynb)\n",
    "capacities_breakdown = pd.read_parquet('../data/02_processed/capacities_breakdown.parquet')\n",
    "capacities_breakdown.columns"
   ]
  },
  {
   "cell_type": "code",
   "execution_count": 52,
   "metadata": {},
   "outputs": [
    {
     "name": "stdout",
     "output_type": "stream",
     "text": [
      "Index(['direccion', 'clase_de_prestador', 'nit_ips', 'codigo_de_habilitacion',\n",
      "       'id_ips', 'nombre_ips', 'longitud_ips', 'latitud_ips', 'capacidad',\n",
      "       'empleados', 'geometry', 'proporcion', 'expected_bikes', 'utam_ips',\n",
      "       'hogares_ips', 'centroide_ips', 'nombre_estacion', 'ubicacion_estacion',\n",
      "       'troncal_estacion', 'latitud_estacion', 'longitud_estacion',\n",
      "       'distancia'],\n",
      "      dtype='object')\n",
      "(87, 22)\n",
      "Index(['direccion', 'clase_de_prestador', 'nit_ips', 'codigo_de_habilitacion',\n",
      "       'id_ips', 'nombre_ips', 'longitud_ips', 'latitud_ips', 'capacidad',\n",
      "       'empleados', 'geometry', 'proporcion', 'expected_bikes', 'utam_ips',\n",
      "       'hogares_ips', 'centroide_ips'],\n",
      "      dtype='object')\n",
      "(87, 16)\n",
      "Index(['direccion', 'clase_de_prestador', 'nit_ips', 'codigo_de_habilitacion',\n",
      "       'id_ips', 'nombre_ips', 'longitud_ips', 'latitud_ips', 'capacidad',\n",
      "       'empleados', 'geometry', 'proporcion', 'expected_bikes', 'utam_ips',\n",
      "       'hogares_ips', 'centroide_ips', 'nombre_estacion', 'ubicacion_estacion',\n",
      "       'troncal_estacion', 'latitud_estacion', 'longitud_estacion',\n",
      "       'distancia'],\n",
      "      dtype='object')\n",
      "(87, 22)\n",
      "Index(['direccion', 'clase_de_prestador', 'nit_ips', 'codigo_de_habilitacion',\n",
      "       'id_ips', 'nombre_ips', 'longitud_ips', 'latitud_ips', 'capacidad',\n",
      "       'empleados', 'geometry', 'proporcion', 'expected_bikes', 'utam_ips',\n",
      "       'hogares_ips', 'centroide_ips', 'nombre_estacion', 'ubicacion_estacion',\n",
      "       'troncal_estacion', 'latitud_estacion', 'longitud_estacion',\n",
      "       'distancia', 'intensivo', 'intermedio', 'normal', 'total',\n",
      "       'share_intensivo', 'rank_intensivo', 'rank_total'],\n",
      "      dtype='object')\n",
      "(87, 29)\n"
     ]
    },
    {
     "name": "stderr",
     "output_type": "stream",
     "text": [
      "C:\\Users\\User\\Anaconda3\\envs\\movilidad\\lib\\site-packages\\geopandas\\tools\\sjoin.py:58: UserWarning: CRS of frames being joined does not match!(None != {'init': 'epsg:4686'})\n",
      "  warn(\n"
     ]
    }
   ],
   "source": [
    "# unimos datos de ips_estaciones_top, y utam para la estimacion de densidad\n",
    "print(ips_all.columns)\n",
    "print(ips_all.shape)\n",
    "\n",
    "ips_all = geop.sjoin(\n",
    "    geop.GeoDataFrame(ips_geo_bikes,\n",
    "                      geometry=geop.points_from_xy(ips_geo_bikes.longitud_ips, ips_geo_bikes.latitud_ips)),\n",
    "    utam_basic,\n",
    "    how='inner',\n",
    "    op='intersects'\n",
    ").drop(columns='index_right', axis=1).rename(columns={'utam':'utam_ips','hogares':'hogares_ips', 'centroide':'centroide_ips'})\n",
    "\n",
    "print(ips_all.columns)\n",
    "print(ips_all.shape)\n",
    "\n",
    "ips_all = pd.merge(\n",
    "    ips_all,\n",
    "    ips_estaciones_top[['id_ips', 'nombre_estacion', 'ubicacion_estacion',\n",
    "                    'troncal_estacion', 'latitud_estacion', 'longitud_estacion',\n",
    "                    'distancia']],\n",
    "    how='inner',\n",
    "    on='id_ips'\n",
    ")\n",
    "\n",
    "print(ips_all.columns)\n",
    "print(ips_all.shape)\n",
    "\n",
    "ips_all = pd.merge(\n",
    "    ips_all,\n",
    "    capacities_breakdown,\n",
    "    on=['nombre_ips', 'nit_ips']\n",
    ")\n",
    "\n",
    "print(ips_all.columns)\n",
    "print(ips_all.shape)"
   ]
  },
  {
   "cell_type": "code",
   "execution_count": 53,
   "metadata": {},
   "outputs": [
    {
     "data": {
      "text/plain": [
       "<matplotlib.axes._subplots.AxesSubplot at 0x2196517aca0>"
      ]
     },
     "execution_count": 53,
     "metadata": {},
     "output_type": "execute_result"
    },
    {
     "data": {
      "image/png": "[encoded data removed]",
      "text/plain": [
       "<Figure size 1200x600 with 1 Axes>"
      ]
     },
     "metadata": {
      "needs_background": "light"
     },
     "output_type": "display_data"
    }
   ],
   "source": [
    "sns.distplot(ips_all.hogares_ips)"
   ]
  },
  {
   "cell_type": "code",
   "execution_count": 54,
   "metadata": {},
   "outputs": [
    {
     "data": {
      "text/plain": [
       "<matplotlib.axes._subplots.AxesSubplot at 0x21961da9400>"
      ]
     },
     "execution_count": 54,
     "metadata": {},
     "output_type": "execute_result"
    },
    {
     "data": {
      "image/png": "[encoded data removed]",
      "text/plain": [
       "<Figure size 1200x600 with 1 Axes>"
      ]
     },
     "metadata": {
      "needs_background": "light"
     },
     "output_type": "display_data"
    }
   ],
   "source": [
    "sns.distplot(ips_all.distancia)"
   ]
  },
  {
   "cell_type": "code",
   "execution_count": 55,
   "metadata": {},
   "outputs": [
    {
     "data": {
      "text/plain": [
       "<matplotlib.axes._subplots.AxesSubplot at 0x219672c2c70>"
      ]
     },
     "execution_count": 55,
     "metadata": {},
     "output_type": "execute_result"
    },
    {
     "data": {
      "image/png": "[encoded data removed]",
      "text/plain": [
       "<Figure size 1200x600 with 1 Axes>"
      ]
     },
     "metadata": {
      "needs_background": "light"
     },
     "output_type": "display_data"
    }
   ],
   "source": [
    "sns.scatterplot(x = 'distancia', y = 'hogares_ips', data=ips_all)"
   ]
  },
  {
   "cell_type": "code",
   "execution_count": 56,
   "metadata": {},
   "outputs": [
    {
     "data": {
      "text/plain": [
       "<matplotlib.axes._subplots.AxesSubplot at 0x219672e7670>"
      ]
     },
     "execution_count": 56,
     "metadata": {},
     "output_type": "execute_result"
    },
    {
     "data": {
      "image/png": "[encoded data removed]",
      "text/plain": [
       "<Figure size 1200x600 with 1 Axes>"
      ]
     },
     "metadata": {
      "needs_background": "light"
     },
     "output_type": "display_data"
    }
   ],
   "source": [
    "sns.scatterplot(x = 'capacidad', y = 'hogares_ips', data=ips_all)"
   ]
  },
  {
   "cell_type": "code",
   "execution_count": 57,
   "metadata": {},
   "outputs": [
    {
     "data": {
      "text/plain": [
       "<matplotlib.axes._subplots.AxesSubplot at 0x21968571580>"
      ]
     },
     "execution_count": 57,
     "metadata": {},
     "output_type": "execute_result"
    },
    {
     "data": {
      "image/png": "[encoded data removed]",
      "text/plain": [
       "<Figure size 1200x600 with 1 Axes>"
      ]
     },
     "metadata": {
      "needs_background": "light"
     },
     "output_type": "display_data"
    }
   ],
   "source": [
    "sns.scatterplot(x = 'capacidad', y = 'distancia', data=ips_all)"
   ]
  },
  {
   "cell_type": "markdown",
   "metadata": {},
   "source": [
    "con estos datos listos, podemos proceder a agrupar y asignar un orden de prioridad.\n",
    "\n",
    "**Metodo**\n",
    "- Generamos rangos para: `distancia`, `densidad(hogares)`, `capacidad` y `share_intensivo`. Estas seran nuestras cuatro variables mas importantes para priorizar.\n",
    "- Volvemos cada una de las variables un score, como tenemos varios outlier y son importantes, hacemos rankings de cuantiles"
   ]
  },
  {
   "cell_type": "code",
   "execution_count": 58,
   "metadata": {},
   "outputs": [],
   "source": [
    "ips_all = (ips_all.\n",
    "    assign(rank_share_intensivo=lambda x: x.share_intensivo.rank(method='max', pct=True),\n",
    "           rank_capacidad=lambda x: x.capacidad.rank(method='max', pct=True),\n",
    "           rank_distancia=lambda x: x.distancia.rank(method='max', pct=True),\n",
    "           rank_hogares_ips=lambda x: x.hogares_ips.rank(method='max', pct=True)\n",
    "          )\n",
    ")"
   ]
  },
  {
   "cell_type": "markdown",
   "metadata": {},
   "source": [
    "Creamos un puntaje sumando por igual las categorias. Dependiendo de opiniones de expertos, este score podria cambiar"
   ]
  },
  {
   "cell_type": "code",
   "execution_count": 59,
   "metadata": {},
   "outputs": [],
   "source": [
    "w_score = np.array([0.25, 0.25, 0.25, 0.25])\n",
    "\n",
    "priority_scores = 100 * ips_all[['rank_share_intensivo', 'rank_capacidad', 'rank_distancia', 'rank_hogares_ips']].dot(w_score)\n",
    "\n",
    "ips_all['priority_score'] = priority_scores"
   ]
  },
  {
   "cell_type": "code",
   "execution_count": 60,
   "metadata": {},
   "outputs": [
    {
     "data": {
      "text/plain": [
       "Index(['direccion', 'clase_de_prestador', 'nit_ips', 'codigo_de_habilitacion',\n",
       "       'id_ips', 'nombre_ips', 'longitud_ips', 'latitud_ips', 'capacidad',\n",
       "       'empleados', 'geometry', 'proporcion', 'expected_bikes', 'utam_ips',\n",
       "       'hogares_ips', 'centroide_ips', 'nombre_estacion', 'ubicacion_estacion',\n",
       "       'troncal_estacion', 'latitud_estacion', 'longitud_estacion',\n",
       "       'distancia', 'intensivo', 'intermedio', 'normal', 'total',\n",
       "       'share_intensivo', 'rank_intensivo', 'rank_total',\n",
       "       'rank_share_intensivo', 'rank_capacidad', 'rank_distancia',\n",
       "       'rank_hogares_ips', 'priority_score'],\n",
       "      dtype='object')"
      ]
     },
     "execution_count": 60,
     "metadata": {},
     "output_type": "execute_result"
    }
   ],
   "source": [
    "ips_all.columns"
   ]
  },
  {
   "cell_type": "code",
   "execution_count": 65,
   "metadata": {},
   "outputs": [],
   "source": [
    "ips_final = ips_all[['nit_ips', 'direccion', 'nombre_ips', 'capacidad', 'empleados',\n",
    "                     'intensivo', 'share_intensivo',\n",
    "                     'latitud_ips', 'longitud_ips',\n",
    "                     'hogares_ips', 'nombre_estacion', 'ubicacion_estacion', 'troncal_estacion',\n",
    "                     'latitud_estacion', 'longitud_estacion', 'distancia',\n",
    "                     'expected_bikes', 'priority_score']].sort_values('priority_score', ascending=False)"
   ]
  },
  {
   "cell_type": "code",
   "execution_count": 67,
   "metadata": {},
   "outputs": [],
   "source": [
    "ips_final.to_csv('../data/03_results/ips_final.csv')"
   ]
  },
  {
   "cell_type": "markdown",
   "metadata": {},
   "source": [
    "## UTAM de IPS y de estaciones (WIP)\n",
    "Usaremos el volumen de movilidad como proxy para el numero de trabajadores que van hacia los hospitales con esto, tambien entenderemos que porcentaje de . Primero, necesitamos el utam de los hospitales."
   ]
  },
  {
   "cell_type": "markdown",
   "metadata": {},
   "source": [
    "Tenemos que encontrar el UTAM de cada una de las estaciones e IPSs"
   ]
  },
  {
   "cell_type": "code",
   "execution_count": null,
   "metadata": {},
   "outputs": [],
   "source": [
    "ips_estaciones_top = (ips_estaciones_top.\n",
    "     assign(location_ips=lambda df: df.apply(lambda r: Point(r.longitud_ips, r.latitud_ips), axis=1),\n",
    "            location_estacion = lambda df: df.apply(lambda r: Point(r.longitud_estacion, r.latitud_estacion), axis=1))\n",
    ")"
   ]
  },
  {
   "cell_type": "code",
   "execution_count": null,
   "metadata": {},
   "outputs": [],
   "source": [
    "ips_estaciones_top.head()"
   ]
  },
  {
   "cell_type": "code",
   "execution_count": null,
   "metadata": {},
   "outputs": [],
   "source": [
    "ips_estaciones_top_geo = geop.GeoDataFrame(ips_estaciones_top)"
   ]
  },
  {
   "cell_type": "code",
   "execution_count": null,
   "metadata": {},
   "outputs": [],
   "source": [
    "# load utam data\n",
    "utam = pd.read_pickle('../data/02_processed/utam.pkl')\n",
    "utam_basic = utam[['utam', 'hogares', 'geometry', 'centroide']]"
   ]
  },
  {
   "cell_type": "code",
   "execution_count": null,
   "metadata": {},
   "outputs": [],
   "source": [
    "ips_geo_1.set_geometry('location_estacion').info()"
   ]
  },
  {
   "cell_type": "code",
   "execution_count": null,
   "metadata": {},
   "outputs": [],
   "source": [
    "# merge utam ips\n",
    "ips_geo_1 = (geop.sjoin(\n",
    "    ips_estaciones_top_geo.set_geometry('location_ips'),\n",
    "    utam_basic,\n",
    "    how='inner',\n",
    "    op='intersects'\n",
    ").rename(columns={'utam':'utam_ips','hogares':'hogares_ips', 'centroide':'centroide_ips'})).drop(['index_right'], axis=1)\n",
    "\n",
    "#merge estacion utam\n",
    "ips_geo_utam = geop.sjoin(\n",
    "    ips_geo_1.set_geometry('location_estacion'),\n",
    "    utam_basic.set_geometry('geometry'),\n",
    "    how='inner',\n",
    "    op='intersects'\n",
    ").rename(columns={'utam':'utam_estacion','hogares':'hogares_estacion', 'centroide':'centroide_estacion'})"
   ]
  },
  {
   "cell_type": "code",
   "execution_count": null,
   "metadata": {},
   "outputs": [],
   "source": [
    "ips_geo_utam"
   ]
  },
  {
   "cell_type": "code",
   "execution_count": null,
   "metadata": {},
   "outputs": [],
   "source": [
    "ips_geo_1.set_geometry('location_estacion').plot()"
   ]
  },
  {
   "cell_type": "code",
   "execution_count": null,
   "metadata": {},
   "outputs": [],
   "source": []
  }
 ],
 "metadata": {
  "kernelspec": {
   "display_name": "Python 3",
   "language": "python",
   "name": "python3"
  },
  "language_info": {
   "codemirror_mode": {
    "name": "ipython",
    "version": 3
   },
   "file_extension": ".py",
   "mimetype": "text/x-python",
   "name": "python",
   "nbconvert_exporter": "python",
   "pygments_lexer": "ipython3",
   "version": "3.8.1"
  }
 },
 "nbformat": 4,
 "nbformat_minor": 4
}
