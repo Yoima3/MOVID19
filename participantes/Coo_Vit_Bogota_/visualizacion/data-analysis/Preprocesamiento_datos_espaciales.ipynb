{
 "cells": [
  {
   "cell_type": "code",
   "execution_count": 152,
   "metadata": {},
   "outputs": [],
   "source": [
    "import pandas as pd\n",
    "import numpy as np\n",
    "import geopandas as gpd\n",
    "\n",
    "pd.set_option('display.max_rows', 50)\n",
    "pd.set_option('display.max_columns', 50)"
   ]
  },
  {
   "cell_type": "code",
   "execution_count": 234,
   "metadata": {},
   "outputs": [
    {
     "name": "stderr",
     "output_type": "stream",
     "text": [
      "/usr/local/lib/python3.7/site-packages/IPython/core/interactiveshell.py:3063: DtypeWarning: Columns (12,13) have mixed types. Specify dtype option on import or set low_memory=False.\n",
      "  interactivity=interactivity, compiler=compiler, result=result)\n",
      "/usr/local/lib/python3.7/site-packages/IPython/core/interactiveshell.py:3063: DtypeWarning: Columns (0) have mixed types. Specify dtype option on import or set low_memory=False.\n",
      "  interactivity=interactivity, compiler=compiler, result=result)\n"
     ]
    }
   ],
   "source": [
    "hogares = pd.read_csv('Encuesta de Movilidad 2019/BD EODH2019 FINAL v14022020/Archivos CSV/HogaresEODH2019.csv', sep=';')\n",
    "personas = pd.read_csv('Encuesta de Movilidad 2019/BD EODH2019 FINAL v14022020/Archivos CSV/PersonasEODH2019.csv',sep=';')\n",
    "etapas = pd.read_csv('Encuesta de Movilidad 2019/BD EODH2019 FINAL v14022020/Archivos CSV/EtapasEODH2019.csv',sep=';')\n",
    "viajes = pd.read_csv('Encuesta de Movilidad 2019/BD EODH2019 FINAL v14022020/Archivos CSV/ViajesEODH2019.csv')"
   ]
  },
  {
   "cell_type": "code",
   "execution_count": 5,
   "metadata": {
    "scrolled": false
   },
   "outputs": [],
   "source": [
    "hogares_persona = pd.merge(hogares, personas, left_on='Id_Hogar', right_on='id_hogar')"
   ]
  },
  {
   "cell_type": "code",
   "execution_count": 144,
   "metadata": {},
   "outputs": [],
   "source": [
    "ideca = gpd.read_file('salud/salud_ideca.geojson')\n",
    "hospitales = ideca[ideca.NGeClasifi=='SALUD']\n",
    "hospitales = hospitales[(hospitales.NGeNombre.str.contains('Hospital'))\n",
    "                         |(hospitales.NGeNombre.str.contains('Clínica'))\n",
    "                         |(hospitales.NGeNombre.str.contains('Clínica'))\n",
    "                         |(hospitales.NGeNombre.str.contains('Fundación'))\n",
    "                         |(hospitales.NGeNombre.str.contains('Fundacion'))].reset_index(drop=True)\n",
    "hospitales['ZAT'] = 0\n",
    "zats = gpd.read_file('ZONAS/ZAT.shp')\n",
    "\n",
    "for hindex, hrow in hospitales.iterrows():\n",
    "    for zindex, zrow in zats.iterrows():\n",
    "        if(hrow.geometry.within(zrow.geometry)):\n",
    "            hospitales.loc[hindex,'ZAT'] = zrow.ZAT\n",
    "            \n",
    "hospitales.ZAT = hospitales.ZAT.astype(int)            \n",
    "hospitales['longitud'] = hospitales.geometry.x\n",
    "hospitales['latitud'] = hospitales.geometry.y\n",
    "\n",
    "hospitales['departamento'] = 'Bogota, D.C.'\n",
    "hospitales['municipio'] = 'Bogota, D.C.'\n",
    "hospitales['cod_prestador'] = '1100100032'\n",
    "hospitales['prestador'] = hospitales.NGeNombre\n",
    "hospitales['cod_habilitacion'] = '1100100032'\n",
    "hospitales['nombre_sede'] = hospitales.NGeNombre\n",
    "hospitales['cod_sede'] = hospitales.NGeIdentif\n",
    "hospitales['gerente'] = ''\n",
    "hospitales['zona'] = 'Urbana'\n",
    "\n",
    "hospitales = hospitales[['departamento', 'municipio', 'cod_prestador', 'prestador', 'cod_habilitacion', \n",
    "            'cod_sede', 'nombre_sede', 'gerente', 'zona', 'ZAT', 'latitud', 'longitud']]\n",
    "\n",
    "hospitales.to_csv('data_outputs/hospitales.csv')"
   ]
  },
  {
   "cell_type": "code",
   "execution_count": 257,
   "metadata": {},
   "outputs": [],
   "source": [
    "personas_salud = personas[personas['p7_id_actividad_economica'].isin([17])\n",
    "                         ][['id_hogar', 'id_persona', 'p6_id_ocupacion',\n",
    "                            'p7_id_actividad_economica','p4_edad','Sexo', 'f_exp']]"
   ]
  },
  {
   "cell_type": "code",
   "execution_count": 288,
   "metadata": {},
   "outputs": [],
   "source": [
    "viajes_persona = pd.merge(personas_salud, viajes[['id_hogar', 'id_persona', 'id_viaje','fecha', 'zat_origen', \n",
    "                                                  'lugar_origen', 'p17_Id_motivo_viaje', 'hora_inicio_viaje', \n",
    "                                                  'p28_lugar_destino', 'zat_destino', 'p31_hora_llegada', \n",
    "                                                  'modo_principal']], \n",
    "                          on=['id_hogar', 'id_persona'])\n",
    "\n",
    "viajes_persona = viajes_persona[~viajes_persona.zat_origen.isna()]\n",
    "viajes_persona = viajes_persona[~viajes_persona.zat_destino.isna()]\n",
    "\n",
    "viajes_persona.zat_destino = viajes_persona.zat_destino.astype(int)\n",
    "viajes_persona.zat_origen = viajes_persona.zat_origen.astype(int)"
   ]
  },
  {
   "cell_type": "code",
   "execution_count": 290,
   "metadata": {},
   "outputs": [],
   "source": []
  },
  {
   "cell_type": "code",
   "execution_count": 269,
   "metadata": {},
   "outputs": [
    {
     "data": {
      "text/plain": [
       "0.01862755592969233"
      ]
     },
     "execution_count": 269,
     "metadata": {},
     "output_type": "execute_result"
    }
   ],
   "source": [
    "viajes_persona[viajes_persona.modo_principal=='TransMilenio'].f_exp.sum()/viajes[viajes.modo_principal=='TransMilenio'].f_exp.sum()"
   ]
  },
  {
   "cell_type": "code",
   "execution_count": null,
   "metadata": {},
   "outputs": [],
   "source": []
  }
 ],
 "metadata": {
  "kernelspec": {
   "display_name": "Python 3",
   "language": "python",
   "name": "python3"
  },
  "language_info": {
   "codemirror_mode": {
    "name": "ipython",
    "version": 3
   },
   "file_extension": ".py",
   "mimetype": "text/x-python",
   "name": "python",
   "nbconvert_exporter": "python",
   "pygments_lexer": "ipython3",
   "version": "3.7.7"
  }
 },
 "nbformat": 4,
 "nbformat_minor": 2
}
